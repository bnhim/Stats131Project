{
 "cells": [
  {
   "cell_type": "markdown",
   "metadata": {},
   "source": [
    "# Questions\n",
    "## 1. Which attack type would be used in the next global terrorist attack?\n",
    "## 2. Which variables best predict attack type?"
   ]
  },
  {
   "cell_type": "markdown",
   "metadata": {},
   "source": [
    "### Import Packages and Data"
   ]
  },
  {
   "cell_type": "code",
   "execution_count": 6,
   "metadata": {},
   "outputs": [],
   "source": [
    "import pandas as pd\n",
    "import numpy as np\n",
    "import matplotlib.pyplot as plt\n",
    "import seaborn as sns\n",
    "from sklearn.linear_model import LogisticRegression\n",
    "from sklearn.metrics import confusion_matrix, classification_report \n",
    "from sklearn.model_selection import train_test_split\n",
    "from sklearn.preprocessing import LabelEncoder\n",
    "from sklearn.preprocessing import label_binarize\n",
    "from sklearn.multiclass import OneVsRestClassifier\n",
    "from sklearn import svm\n",
    "from sklearn.metrics import accuracy_score\n",
    "from sklearn.metrics import roc_curve\n",
    "from sklearn.metrics import roc_auc_score\n",
    "from sklearn.model_selection import cross_val_score"
   ]
  },
  {
   "cell_type": "code",
   "execution_count": 7,
   "metadata": {},
   "outputs": [],
   "source": [
    "data= pd.read_csv(\"globalterrorismdb_0617dist.csv\",encoding='ISO-8859-1', low_memory=False)"
   ]
  },
  {
   "cell_type": "code",
   "execution_count": 3,
   "metadata": {},
   "outputs": [
    {
     "data": {
      "text/html": [
       "<div>\n",
       "<style scoped>\n",
       "    .dataframe tbody tr th:only-of-type {\n",
       "        vertical-align: middle;\n",
       "    }\n",
       "\n",
       "    .dataframe tbody tr th {\n",
       "        vertical-align: top;\n",
       "    }\n",
       "\n",
       "    .dataframe thead th {\n",
       "        text-align: right;\n",
       "    }\n",
       "</style>\n",
       "<table border=\"1\" class=\"dataframe\">\n",
       "  <thead>\n",
       "    <tr style=\"text-align: right;\">\n",
       "      <th></th>\n",
       "      <th>eventid</th>\n",
       "      <th>iyear</th>\n",
       "      <th>imonth</th>\n",
       "      <th>iday</th>\n",
       "      <th>approxdate</th>\n",
       "      <th>extended</th>\n",
       "      <th>resolution</th>\n",
       "      <th>country</th>\n",
       "      <th>country_txt</th>\n",
       "      <th>region</th>\n",
       "      <th>...</th>\n",
       "      <th>addnotes</th>\n",
       "      <th>scite1</th>\n",
       "      <th>scite2</th>\n",
       "      <th>scite3</th>\n",
       "      <th>dbsource</th>\n",
       "      <th>INT_LOG</th>\n",
       "      <th>INT_IDEO</th>\n",
       "      <th>INT_MISC</th>\n",
       "      <th>INT_ANY</th>\n",
       "      <th>related</th>\n",
       "    </tr>\n",
       "  </thead>\n",
       "  <tbody>\n",
       "    <tr>\n",
       "      <th>0</th>\n",
       "      <td>197000000001</td>\n",
       "      <td>1970</td>\n",
       "      <td>7</td>\n",
       "      <td>2</td>\n",
       "      <td>NaN</td>\n",
       "      <td>0</td>\n",
       "      <td>NaN</td>\n",
       "      <td>58</td>\n",
       "      <td>Dominican Republic</td>\n",
       "      <td>2</td>\n",
       "      <td>...</td>\n",
       "      <td>NaN</td>\n",
       "      <td>NaN</td>\n",
       "      <td>NaN</td>\n",
       "      <td>NaN</td>\n",
       "      <td>PGIS</td>\n",
       "      <td>0.0</td>\n",
       "      <td>0.0</td>\n",
       "      <td>0.0</td>\n",
       "      <td>0.0</td>\n",
       "      <td>NaN</td>\n",
       "    </tr>\n",
       "    <tr>\n",
       "      <th>1</th>\n",
       "      <td>197000000002</td>\n",
       "      <td>1970</td>\n",
       "      <td>0</td>\n",
       "      <td>0</td>\n",
       "      <td>NaN</td>\n",
       "      <td>0</td>\n",
       "      <td>NaN</td>\n",
       "      <td>130</td>\n",
       "      <td>Mexico</td>\n",
       "      <td>1</td>\n",
       "      <td>...</td>\n",
       "      <td>NaN</td>\n",
       "      <td>NaN</td>\n",
       "      <td>NaN</td>\n",
       "      <td>NaN</td>\n",
       "      <td>PGIS</td>\n",
       "      <td>0.0</td>\n",
       "      <td>1.0</td>\n",
       "      <td>1.0</td>\n",
       "      <td>1.0</td>\n",
       "      <td>NaN</td>\n",
       "    </tr>\n",
       "    <tr>\n",
       "      <th>2</th>\n",
       "      <td>197001000001</td>\n",
       "      <td>1970</td>\n",
       "      <td>1</td>\n",
       "      <td>0</td>\n",
       "      <td>NaN</td>\n",
       "      <td>0</td>\n",
       "      <td>NaN</td>\n",
       "      <td>160</td>\n",
       "      <td>Philippines</td>\n",
       "      <td>5</td>\n",
       "      <td>...</td>\n",
       "      <td>NaN</td>\n",
       "      <td>NaN</td>\n",
       "      <td>NaN</td>\n",
       "      <td>NaN</td>\n",
       "      <td>PGIS</td>\n",
       "      <td>-9.0</td>\n",
       "      <td>-9.0</td>\n",
       "      <td>1.0</td>\n",
       "      <td>1.0</td>\n",
       "      <td>NaN</td>\n",
       "    </tr>\n",
       "    <tr>\n",
       "      <th>3</th>\n",
       "      <td>197001000002</td>\n",
       "      <td>1970</td>\n",
       "      <td>1</td>\n",
       "      <td>0</td>\n",
       "      <td>NaN</td>\n",
       "      <td>0</td>\n",
       "      <td>NaN</td>\n",
       "      <td>78</td>\n",
       "      <td>Greece</td>\n",
       "      <td>8</td>\n",
       "      <td>...</td>\n",
       "      <td>NaN</td>\n",
       "      <td>NaN</td>\n",
       "      <td>NaN</td>\n",
       "      <td>NaN</td>\n",
       "      <td>PGIS</td>\n",
       "      <td>-9.0</td>\n",
       "      <td>-9.0</td>\n",
       "      <td>1.0</td>\n",
       "      <td>1.0</td>\n",
       "      <td>NaN</td>\n",
       "    </tr>\n",
       "    <tr>\n",
       "      <th>4</th>\n",
       "      <td>197001000003</td>\n",
       "      <td>1970</td>\n",
       "      <td>1</td>\n",
       "      <td>0</td>\n",
       "      <td>NaN</td>\n",
       "      <td>0</td>\n",
       "      <td>NaN</td>\n",
       "      <td>101</td>\n",
       "      <td>Japan</td>\n",
       "      <td>4</td>\n",
       "      <td>...</td>\n",
       "      <td>NaN</td>\n",
       "      <td>NaN</td>\n",
       "      <td>NaN</td>\n",
       "      <td>NaN</td>\n",
       "      <td>PGIS</td>\n",
       "      <td>-9.0</td>\n",
       "      <td>-9.0</td>\n",
       "      <td>1.0</td>\n",
       "      <td>1.0</td>\n",
       "      <td>NaN</td>\n",
       "    </tr>\n",
       "  </tbody>\n",
       "</table>\n",
       "<p>5 rows × 135 columns</p>\n",
       "</div>"
      ],
      "text/plain": [
       "        eventid  iyear  imonth  iday approxdate  extended resolution  country  \\\n",
       "0  197000000001   1970       7     2        NaN         0        NaN       58   \n",
       "1  197000000002   1970       0     0        NaN         0        NaN      130   \n",
       "2  197001000001   1970       1     0        NaN         0        NaN      160   \n",
       "3  197001000002   1970       1     0        NaN         0        NaN       78   \n",
       "4  197001000003   1970       1     0        NaN         0        NaN      101   \n",
       "\n",
       "          country_txt  region   ...    addnotes scite1 scite2  scite3  \\\n",
       "0  Dominican Republic       2   ...         NaN    NaN    NaN     NaN   \n",
       "1              Mexico       1   ...         NaN    NaN    NaN     NaN   \n",
       "2         Philippines       5   ...         NaN    NaN    NaN     NaN   \n",
       "3              Greece       8   ...         NaN    NaN    NaN     NaN   \n",
       "4               Japan       4   ...         NaN    NaN    NaN     NaN   \n",
       "\n",
       "   dbsource  INT_LOG  INT_IDEO INT_MISC INT_ANY  related  \n",
       "0      PGIS      0.0       0.0      0.0     0.0      NaN  \n",
       "1      PGIS      0.0       1.0      1.0     1.0      NaN  \n",
       "2      PGIS     -9.0      -9.0      1.0     1.0      NaN  \n",
       "3      PGIS     -9.0      -9.0      1.0     1.0      NaN  \n",
       "4      PGIS     -9.0      -9.0      1.0     1.0      NaN  \n",
       "\n",
       "[5 rows x 135 columns]"
      ]
     },
     "execution_count": 3,
     "metadata": {},
     "output_type": "execute_result"
    }
   ],
   "source": [
    "data.head()"
   ]
  },
  {
   "cell_type": "code",
   "execution_count": 4,
   "metadata": {},
   "outputs": [
    {
     "name": "stdout",
     "output_type": "stream",
     "text": [
      "<class 'pandas.core.frame.DataFrame'>\n",
      "RangeIndex: 96927 entries, 0 to 96926\n",
      "Columns: 135 entries, eventid to related\n",
      "dtypes: float64(70), int64(7), object(58)\n",
      "memory usage: 99.8+ MB\n"
     ]
    }
   ],
   "source": [
    "data.info()"
   ]
  },
  {
   "cell_type": "code",
   "execution_count": 5,
   "metadata": {},
   "outputs": [
    {
     "data": {
      "text/plain": [
       "eventid                   0\n",
       "iyear                     0\n",
       "imonth                    0\n",
       "iday                      0\n",
       "approxdate            96620\n",
       "extended                  0\n",
       "resolution            94900\n",
       "country                   0\n",
       "country_txt               0\n",
       "region                    0\n",
       "region_txt                0\n",
       "provstate             14498\n",
       "city                    367\n",
       "latitude               4146\n",
       "longitude              4146\n",
       "specificity               2\n",
       "vicinity                  1\n",
       "location              81570\n",
       "summary               66139\n",
       "crit1                     1\n",
       "crit2                     1\n",
       "crit3                     1\n",
       "doubtterr                 1\n",
       "alternative           82801\n",
       "alternative_txt       82801\n",
       "multiple                  1\n",
       "success                   1\n",
       "suicide                   1\n",
       "attacktype1               1\n",
       "attacktype1_txt           1\n",
       "                      ...  \n",
       "propextent            64148\n",
       "propextent_txt        64148\n",
       "propvalue             85563\n",
       "propcomment           81002\n",
       "ishostkid               179\n",
       "nhostkid              90164\n",
       "nhostkidus            90217\n",
       "nhours                94787\n",
       "ndays                 93711\n",
       "divert                96665\n",
       "kidhijcountry         93654\n",
       "ransom                26287\n",
       "ransomamt             96003\n",
       "ransomamtus           96770\n",
       "ransompaid            96567\n",
       "ransompaidus          96777\n",
       "ransomnote            96767\n",
       "hostkidoutcome        92746\n",
       "hostkidoutcome_txt    92746\n",
       "nreleased             93329\n",
       "addnotes              88004\n",
       "scite1                66201\n",
       "scite2                74843\n",
       "scite3                86252\n",
       "dbsource                  1\n",
       "INT_LOG                   1\n",
       "INT_IDEO                  1\n",
       "INT_MISC                  1\n",
       "INT_ANY                   1\n",
       "related               86602\n",
       "Length: 135, dtype: int64"
      ]
     },
     "execution_count": 5,
     "metadata": {},
     "output_type": "execute_result"
    }
   ],
   "source": [
    "data.isnull().sum()"
   ]
  },
  {
   "cell_type": "markdown",
   "metadata": {},
   "source": [
    "### Data Cleaning"
   ]
  },
  {
   "cell_type": "markdown",
   "metadata": {},
   "source": [
    "#### Remove Columns That Are Not Relevant in Predicting Attack Type Based On Our Intuitions"
   ]
  },
  {
   "cell_type": "code",
   "execution_count": 8,
   "metadata": {},
   "outputs": [],
   "source": [
    "data2= data[[\"eventid\", \"iyear\", \"imonth\", \"crit1\", \"crit2\", \\\n",
    "             \"crit3\", \"doubtterr\", \"multiple\", \"country\", \\\n",
    "             \"country_txt\", \"region\", \"region_txt\", \"attacktype1\", \\\n",
    "             \"attacktype1_txt\", \"success\", \"weaptype1\", \\\n",
    "             \"weaptype1_txt\", \"suicide\", \\\n",
    "             \"targtype1\", \"targtype1_txt\", \"target1\", \\\n",
    "             \"natlty1\", \"gname\", \\\n",
    "             \"INT_LOG\", \"INT_IDEO\", \"latitude\", \"longitude\"]]"
   ]
  },
  {
   "cell_type": "markdown",
   "metadata": {},
   "source": [
    "#### Remove Observations Whose Exact Month of Incident is Unknown (imonth = 0)"
   ]
  },
  {
   "cell_type": "code",
   "execution_count": 9,
   "metadata": {},
   "outputs": [],
   "source": [
    "data2 = data2[data2[\"imonth\"] != 0]"
   ]
  },
  {
   "cell_type": "code",
   "execution_count": 8,
   "metadata": {},
   "outputs": [
    {
     "name": "stdout",
     "output_type": "stream",
     "text": [
      "[ 7  1  2  3  4  5  6  8  9 10 11 12]\n"
     ]
    }
   ],
   "source": [
    "print(data2.imonth.unique())"
   ]
  },
  {
   "cell_type": "markdown",
   "metadata": {},
   "source": [
    "#### Remove Observations Whose Country is Unknown (country = Unknown)"
   ]
  },
  {
   "cell_type": "code",
   "execution_count": 10,
   "metadata": {},
   "outputs": [],
   "source": [
    "data2 = data2[data2[\"country_txt\"] != \"Unknown\"]"
   ]
  },
  {
   "cell_type": "code",
   "execution_count": 10,
   "metadata": {},
   "outputs": [
    {
     "data": {
      "text/plain": [
       "eventid               0\n",
       "iyear                 0\n",
       "imonth                0\n",
       "crit1                 1\n",
       "crit2                 1\n",
       "crit3                 1\n",
       "doubtterr             1\n",
       "multiple              1\n",
       "country               0\n",
       "country_txt           0\n",
       "region                0\n",
       "region_txt            0\n",
       "attacktype1           1\n",
       "attacktype1_txt       1\n",
       "success               1\n",
       "weaptype1             1\n",
       "weaptype1_txt         1\n",
       "suicide               1\n",
       "targtype1             1\n",
       "targtype1_txt         1\n",
       "target1             615\n",
       "natlty1             518\n",
       "gname                 1\n",
       "INT_LOG               1\n",
       "INT_IDEO              1\n",
       "latitude           4142\n",
       "longitude          4142\n",
       "dtype: int64"
      ]
     },
     "execution_count": 10,
     "metadata": {},
     "output_type": "execute_result"
    }
   ],
   "source": [
    "data2.isnull().sum()"
   ]
  },
  {
   "cell_type": "code",
   "execution_count": 11,
   "metadata": {},
   "outputs": [
    {
     "name": "stdout",
     "output_type": "stream",
     "text": [
      "<class 'pandas.core.frame.DataFrame'>\n",
      "Int64Index: 96907 entries, 0 to 96926\n",
      "Data columns (total 27 columns):\n",
      "eventid            96907 non-null int64\n",
      "iyear              96907 non-null int64\n",
      "imonth             96907 non-null int64\n",
      "crit1              96906 non-null float64\n",
      "crit2              96906 non-null float64\n",
      "crit3              96906 non-null float64\n",
      "doubtterr          96906 non-null float64\n",
      "multiple           96906 non-null float64\n",
      "country            96907 non-null int64\n",
      "country_txt        96907 non-null object\n",
      "region             96907 non-null int64\n",
      "region_txt         96907 non-null object\n",
      "attacktype1        96906 non-null float64\n",
      "attacktype1_txt    96906 non-null object\n",
      "success            96906 non-null float64\n",
      "weaptype1          96906 non-null float64\n",
      "weaptype1_txt      96906 non-null object\n",
      "suicide            96906 non-null float64\n",
      "targtype1          96906 non-null float64\n",
      "targtype1_txt      96906 non-null object\n",
      "target1            96292 non-null object\n",
      "natlty1            96389 non-null float64\n",
      "gname              96906 non-null object\n",
      "INT_LOG            96906 non-null float64\n",
      "INT_IDEO           96906 non-null float64\n",
      "latitude           92765 non-null float64\n",
      "longitude          92765 non-null float64\n",
      "dtypes: float64(15), int64(5), object(7)\n",
      "memory usage: 20.7+ MB\n"
     ]
    }
   ],
   "source": [
    "data2.info()"
   ]
  },
  {
   "cell_type": "markdown",
   "metadata": {},
   "source": [
    "#### Remove Observations Whose Attack Type is Unknown (attacktype1_txt = Unknown)"
   ]
  },
  {
   "cell_type": "code",
   "execution_count": 11,
   "metadata": {},
   "outputs": [],
   "source": [
    "data2 = data2[data2[\"attacktype1_txt\"] != \"Unknown\"]"
   ]
  },
  {
   "cell_type": "markdown",
   "metadata": {},
   "source": [
    "#### Remove Observations Whose Weapon Type is Unknown (weaptype1_txt = Unknown)"
   ]
  },
  {
   "cell_type": "code",
   "execution_count": 12,
   "metadata": {},
   "outputs": [],
   "source": [
    "data2 = data2[data2[\"weaptype1_txt\"] != \"Unknown\"]"
   ]
  },
  {
   "cell_type": "markdown",
   "metadata": {},
   "source": [
    "### Exploratory Analysis"
   ]
  },
  {
   "cell_type": "markdown",
   "metadata": {},
   "source": [
    "#### Checking If the Categories With Smaller Counts Have Sufficient Observations for Modeling"
   ]
  },
  {
   "cell_type": "code",
   "execution_count": 14,
   "metadata": {},
   "outputs": [
    {
     "name": "stdout",
     "output_type": "stream",
     "text": [
      "594\n",
      "319\n",
      "536\n"
     ]
    }
   ],
   "source": [
    "print(len(data2[data2[\"attacktype1_txt\"] == \"Unarmed Assault\"]))\n",
    "print(len(data2[data2[\"attacktype1_txt\"] == \"Hijacking\"]))\n",
    "print(len(data2[data2[\"attacktype1_txt\"] == \"Hostage Taking (Barricade Incident)\"]))"
   ]
  },
  {
   "cell_type": "markdown",
   "metadata": {},
   "source": [
    "#### Examining the Distribution of Attack Type"
   ]
  },
  {
   "cell_type": "code",
   "execution_count": 15,
   "metadata": {},
   "outputs": [
    {
     "data": {
      "image/png": "[encoded data removed]",
      "text/plain": [
       "<matplotlib.figure.Figure at 0x116862b70>"
      ]
     },
     "metadata": {},
     "output_type": "display_data"
    }
   ],
   "source": [
    "plt.subplots(figsize=(15, 6))\n",
    "sns.countplot(data2.attacktype1_txt, order = data2.attacktype1_txt.value_counts().index)\n",
    "plt.xticks(rotation = 90)\n",
    "plt.title(\"Barplot of Attack Type\")\n",
    "plt.xlabel(\"Attack Type\")\n",
    "plt.show()"
   ]
  },
  {
   "cell_type": "markdown",
   "metadata": {},
   "source": [
    "From the barplot, terrorist attacks in the form of bombing/ explosion happened with the highest frequency, followed by armed assault and assassination. Terrorist attacks in the form of facility/ infrastructure attack and hostage taking (kidnapping) also occurred with moderate frequencies. Hijacking, unarmed assault, and hostage taking (barricade incident) happened relatively less frequently."
   ]
  },
  {
   "cell_type": "markdown",
   "metadata": {},
   "source": [
    "#### Examining the Trend of Terrorist Attack"
   ]
  },
  {
   "cell_type": "code",
   "execution_count": 16,
   "metadata": {},
   "outputs": [
    {
     "data": {
      "image/png": "[encoded data removed]",
      "text/plain": [
       "<matplotlib.figure.Figure at 0x11193d550>"
      ]
     },
     "metadata": {},
     "output_type": "display_data"
    }
   ],
   "source": [
    "plt.subplots(figsize=(15,6))\n",
    "sns.countplot(data2.iyear)\n",
    "plt.xticks(rotation = 90)\n",
    "plt.title(\"Number of Terrorist Attacks Each Year (1970 - 2016)\")\n",
    "plt.xlabel(\"Year\")\n",
    "plt.show()"
   ]
  },
  {
   "cell_type": "markdown",
   "metadata": {},
   "source": [
    "The plot shows a clear increasing trend in the number of terrorist attacks, peaking in 2014"
   ]
  },
  {
   "cell_type": "markdown",
   "metadata": {},
   "source": [
    "According to the plot, the distribution of terrorist attacks by month is relatively uniform "
   ]
  },
  {
   "cell_type": "code",
   "execution_count": 17,
   "metadata": {},
   "outputs": [
    {
     "data": {
      "image/png": "[encoded data removed]",
      "text/plain": [
       "<matplotlib.figure.Figure at 0x1176a5358>"
      ]
     },
     "metadata": {},
     "output_type": "display_data"
    }
   ],
   "source": [
    "plt.subplots(figsize=(15,6))\n",
    "sns.countplot(data2.imonth)\n",
    "plt.xticks(rotation = 90)\n",
    "plt.title(\"Number of Terrorist Attacks Each Month\")\n",
    "plt.xlabel(\"Month\")\n",
    "plt.show()"
   ]
  },
  {
   "cell_type": "markdown",
   "metadata": {},
   "source": [
    "#### Examining Distribution of Terrorist Attacks By Year and Regions"
   ]
  },
  {
   "cell_type": "code",
   "execution_count": 18,
   "metadata": {},
   "outputs": [
    {
     "data": {
      "text/html": [
       "<div>\n",
       "<style scoped>\n",
       "    .dataframe tbody tr th:only-of-type {\n",
       "        vertical-align: middle;\n",
       "    }\n",
       "\n",
       "    .dataframe tbody tr th {\n",
       "        vertical-align: top;\n",
       "    }\n",
       "\n",
       "    .dataframe thead th {\n",
       "        text-align: right;\n",
       "    }\n",
       "</style>\n",
       "<table border=\"1\" class=\"dataframe\">\n",
       "  <thead>\n",
       "    <tr style=\"text-align: right;\">\n",
       "      <th>iyear</th>\n",
       "      <th>1970</th>\n",
       "      <th>1971</th>\n",
       "      <th>1972</th>\n",
       "      <th>1973</th>\n",
       "      <th>1974</th>\n",
       "      <th>1975</th>\n",
       "      <th>1976</th>\n",
       "      <th>1977</th>\n",
       "      <th>1978</th>\n",
       "      <th>1979</th>\n",
       "      <th>...</th>\n",
       "      <th>2001</th>\n",
       "      <th>2002</th>\n",
       "      <th>2003</th>\n",
       "      <th>2004</th>\n",
       "      <th>2005</th>\n",
       "      <th>2006</th>\n",
       "      <th>2007</th>\n",
       "      <th>2008</th>\n",
       "      <th>2009</th>\n",
       "      <th>2010</th>\n",
       "    </tr>\n",
       "    <tr>\n",
       "      <th>region_txt</th>\n",
       "      <th></th>\n",
       "      <th></th>\n",
       "      <th></th>\n",
       "      <th></th>\n",
       "      <th></th>\n",
       "      <th></th>\n",
       "      <th></th>\n",
       "      <th></th>\n",
       "      <th></th>\n",
       "      <th></th>\n",
       "      <th></th>\n",
       "      <th></th>\n",
       "      <th></th>\n",
       "      <th></th>\n",
       "      <th></th>\n",
       "      <th></th>\n",
       "      <th></th>\n",
       "      <th></th>\n",
       "      <th></th>\n",
       "      <th></th>\n",
       "      <th></th>\n",
       "    </tr>\n",
       "  </thead>\n",
       "  <tbody>\n",
       "    <tr>\n",
       "      <th>Australasia &amp; Oceania</th>\n",
       "      <td>1</td>\n",
       "      <td>1</td>\n",
       "      <td>2</td>\n",
       "      <td>1</td>\n",
       "      <td>1</td>\n",
       "      <td>0</td>\n",
       "      <td>0</td>\n",
       "      <td>0</td>\n",
       "      <td>2</td>\n",
       "      <td>2</td>\n",
       "      <td>...</td>\n",
       "      <td>4</td>\n",
       "      <td>2</td>\n",
       "      <td>4</td>\n",
       "      <td>0</td>\n",
       "      <td>0</td>\n",
       "      <td>2</td>\n",
       "      <td>1</td>\n",
       "      <td>8</td>\n",
       "      <td>1</td>\n",
       "      <td>1</td>\n",
       "    </tr>\n",
       "    <tr>\n",
       "      <th>Central America &amp; Caribbean</th>\n",
       "      <td>1</td>\n",
       "      <td>4</td>\n",
       "      <td>3</td>\n",
       "      <td>3</td>\n",
       "      <td>9</td>\n",
       "      <td>9</td>\n",
       "      <td>41</td>\n",
       "      <td>16</td>\n",
       "      <td>151</td>\n",
       "      <td>398</td>\n",
       "      <td>...</td>\n",
       "      <td>8</td>\n",
       "      <td>3</td>\n",
       "      <td>8</td>\n",
       "      <td>5</td>\n",
       "      <td>3</td>\n",
       "      <td>5</td>\n",
       "      <td>4</td>\n",
       "      <td>0</td>\n",
       "      <td>9</td>\n",
       "      <td>0</td>\n",
       "    </tr>\n",
       "    <tr>\n",
       "      <th>Central Asia</th>\n",
       "      <td>0</td>\n",
       "      <td>0</td>\n",
       "      <td>0</td>\n",
       "      <td>0</td>\n",
       "      <td>0</td>\n",
       "      <td>0</td>\n",
       "      <td>0</td>\n",
       "      <td>0</td>\n",
       "      <td>0</td>\n",
       "      <td>0</td>\n",
       "      <td>...</td>\n",
       "      <td>18</td>\n",
       "      <td>6</td>\n",
       "      <td>7</td>\n",
       "      <td>8</td>\n",
       "      <td>9</td>\n",
       "      <td>6</td>\n",
       "      <td>4</td>\n",
       "      <td>34</td>\n",
       "      <td>29</td>\n",
       "      <td>2</td>\n",
       "    </tr>\n",
       "    <tr>\n",
       "      <th>East Asia</th>\n",
       "      <td>2</td>\n",
       "      <td>1</td>\n",
       "      <td>0</td>\n",
       "      <td>2</td>\n",
       "      <td>4</td>\n",
       "      <td>12</td>\n",
       "      <td>2</td>\n",
       "      <td>1</td>\n",
       "      <td>35</td>\n",
       "      <td>14</td>\n",
       "      <td>...</td>\n",
       "      <td>20</td>\n",
       "      <td>4</td>\n",
       "      <td>6</td>\n",
       "      <td>4</td>\n",
       "      <td>2</td>\n",
       "      <td>1</td>\n",
       "      <td>0</td>\n",
       "      <td>25</td>\n",
       "      <td>8</td>\n",
       "      <td>0</td>\n",
       "    </tr>\n",
       "    <tr>\n",
       "      <th>Eastern Europe</th>\n",
       "      <td>12</td>\n",
       "      <td>4</td>\n",
       "      <td>1</td>\n",
       "      <td>1</td>\n",
       "      <td>1</td>\n",
       "      <td>0</td>\n",
       "      <td>0</td>\n",
       "      <td>2</td>\n",
       "      <td>2</td>\n",
       "      <td>1</td>\n",
       "      <td>...</td>\n",
       "      <td>236</td>\n",
       "      <td>110</td>\n",
       "      <td>99</td>\n",
       "      <td>44</td>\n",
       "      <td>75</td>\n",
       "      <td>65</td>\n",
       "      <td>60</td>\n",
       "      <td>206</td>\n",
       "      <td>162</td>\n",
       "      <td>85</td>\n",
       "    </tr>\n",
       "    <tr>\n",
       "      <th>Middle East</th>\n",
       "      <td>0</td>\n",
       "      <td>0</td>\n",
       "      <td>0</td>\n",
       "      <td>0</td>\n",
       "      <td>0</td>\n",
       "      <td>0</td>\n",
       "      <td>0</td>\n",
       "      <td>0</td>\n",
       "      <td>0</td>\n",
       "      <td>0</td>\n",
       "      <td>...</td>\n",
       "      <td>0</td>\n",
       "      <td>0</td>\n",
       "      <td>0</td>\n",
       "      <td>0</td>\n",
       "      <td>0</td>\n",
       "      <td>0</td>\n",
       "      <td>0</td>\n",
       "      <td>0</td>\n",
       "      <td>0</td>\n",
       "      <td>1</td>\n",
       "    </tr>\n",
       "    <tr>\n",
       "      <th>Middle East &amp; North Africa</th>\n",
       "      <td>22</td>\n",
       "      <td>46</td>\n",
       "      <td>30</td>\n",
       "      <td>18</td>\n",
       "      <td>40</td>\n",
       "      <td>39</td>\n",
       "      <td>51</td>\n",
       "      <td>208</td>\n",
       "      <td>120</td>\n",
       "      <td>412</td>\n",
       "      <td>...</td>\n",
       "      <td>349</td>\n",
       "      <td>320</td>\n",
       "      <td>282</td>\n",
       "      <td>467</td>\n",
       "      <td>847</td>\n",
       "      <td>1148</td>\n",
       "      <td>1370</td>\n",
       "      <td>1492</td>\n",
       "      <td>1336</td>\n",
       "      <td>551</td>\n",
       "    </tr>\n",
       "    <tr>\n",
       "      <th>North America</th>\n",
       "      <td>469</td>\n",
       "      <td>246</td>\n",
       "      <td>67</td>\n",
       "      <td>61</td>\n",
       "      <td>107</td>\n",
       "      <td>153</td>\n",
       "      <td>117</td>\n",
       "      <td>144</td>\n",
       "      <td>106</td>\n",
       "      <td>74</td>\n",
       "      <td>...</td>\n",
       "      <td>48</td>\n",
       "      <td>33</td>\n",
       "      <td>33</td>\n",
       "      <td>12</td>\n",
       "      <td>21</td>\n",
       "      <td>14</td>\n",
       "      <td>19</td>\n",
       "      <td>30</td>\n",
       "      <td>15</td>\n",
       "      <td>11</td>\n",
       "    </tr>\n",
       "    <tr>\n",
       "      <th>South America</th>\n",
       "      <td>43</td>\n",
       "      <td>14</td>\n",
       "      <td>15</td>\n",
       "      <td>52</td>\n",
       "      <td>61</td>\n",
       "      <td>49</td>\n",
       "      <td>78</td>\n",
       "      <td>89</td>\n",
       "      <td>170</td>\n",
       "      <td>176</td>\n",
       "      <td>...</td>\n",
       "      <td>188</td>\n",
       "      <td>139</td>\n",
       "      <td>107</td>\n",
       "      <td>38</td>\n",
       "      <td>46</td>\n",
       "      <td>40</td>\n",
       "      <td>46</td>\n",
       "      <td>128</td>\n",
       "      <td>152</td>\n",
       "      <td>70</td>\n",
       "    </tr>\n",
       "    <tr>\n",
       "      <th>South Asia</th>\n",
       "      <td>1</td>\n",
       "      <td>0</td>\n",
       "      <td>1</td>\n",
       "      <td>0</td>\n",
       "      <td>2</td>\n",
       "      <td>3</td>\n",
       "      <td>4</td>\n",
       "      <td>2</td>\n",
       "      <td>2</td>\n",
       "      <td>29</td>\n",
       "      <td>...</td>\n",
       "      <td>374</td>\n",
       "      <td>327</td>\n",
       "      <td>348</td>\n",
       "      <td>353</td>\n",
       "      <td>557</td>\n",
       "      <td>896</td>\n",
       "      <td>924</td>\n",
       "      <td>1569</td>\n",
       "      <td>1747</td>\n",
       "      <td>849</td>\n",
       "    </tr>\n",
       "    <tr>\n",
       "      <th>Southeast Asia</th>\n",
       "      <td>6</td>\n",
       "      <td>6</td>\n",
       "      <td>9</td>\n",
       "      <td>1</td>\n",
       "      <td>2</td>\n",
       "      <td>4</td>\n",
       "      <td>9</td>\n",
       "      <td>8</td>\n",
       "      <td>37</td>\n",
       "      <td>66</td>\n",
       "      <td>...</td>\n",
       "      <td>178</td>\n",
       "      <td>108</td>\n",
       "      <td>139</td>\n",
       "      <td>95</td>\n",
       "      <td>202</td>\n",
       "      <td>267</td>\n",
       "      <td>363</td>\n",
       "      <td>473</td>\n",
       "      <td>539</td>\n",
       "      <td>275</td>\n",
       "    </tr>\n",
       "    <tr>\n",
       "      <th>Sub-Saharan Africa</th>\n",
       "      <td>0</td>\n",
       "      <td>0</td>\n",
       "      <td>0</td>\n",
       "      <td>3</td>\n",
       "      <td>4</td>\n",
       "      <td>7</td>\n",
       "      <td>5</td>\n",
       "      <td>15</td>\n",
       "      <td>37</td>\n",
       "      <td>101</td>\n",
       "      <td>...</td>\n",
       "      <td>135</td>\n",
       "      <td>101</td>\n",
       "      <td>63</td>\n",
       "      <td>25</td>\n",
       "      <td>51</td>\n",
       "      <td>102</td>\n",
       "      <td>285</td>\n",
       "      <td>323</td>\n",
       "      <td>199</td>\n",
       "      <td>104</td>\n",
       "    </tr>\n",
       "    <tr>\n",
       "      <th>Western Europe</th>\n",
       "      <td>45</td>\n",
       "      <td>120</td>\n",
       "      <td>347</td>\n",
       "      <td>284</td>\n",
       "      <td>309</td>\n",
       "      <td>431</td>\n",
       "      <td>560</td>\n",
       "      <td>740</td>\n",
       "      <td>686</td>\n",
       "      <td>931</td>\n",
       "      <td>...</td>\n",
       "      <td>233</td>\n",
       "      <td>120</td>\n",
       "      <td>121</td>\n",
       "      <td>58</td>\n",
       "      <td>100</td>\n",
       "      <td>97</td>\n",
       "      <td>71</td>\n",
       "      <td>163</td>\n",
       "      <td>180</td>\n",
       "      <td>69</td>\n",
       "    </tr>\n",
       "  </tbody>\n",
       "</table>\n",
       "<p>13 rows × 40 columns</p>\n",
       "</div>"
      ],
      "text/plain": [
       "iyear                        1970  1971  1972  1973  1974  1975  1976  1977  \\\n",
       "region_txt                                                                    \n",
       "Australasia & Oceania           1     1     2     1     1     0     0     0   \n",
       "Central America & Caribbean     1     4     3     3     9     9    41    16   \n",
       "Central Asia                    0     0     0     0     0     0     0     0   \n",
       "East Asia                       2     1     0     2     4    12     2     1   \n",
       "Eastern Europe                 12     4     1     1     1     0     0     2   \n",
       "Middle East                     0     0     0     0     0     0     0     0   \n",
       "Middle East & North Africa     22    46    30    18    40    39    51   208   \n",
       "North America                 469   246    67    61   107   153   117   144   \n",
       "South America                  43    14    15    52    61    49    78    89   \n",
       "South Asia                      1     0     1     0     2     3     4     2   \n",
       "Southeast Asia                  6     6     9     1     2     4     9     8   \n",
       "Sub-Saharan Africa              0     0     0     3     4     7     5    15   \n",
       "Western Europe                 45   120   347   284   309   431   560   740   \n",
       "\n",
       "iyear                        1978  1979  ...   2001  2002  2003  2004  2005  \\\n",
       "region_txt                               ...                                  \n",
       "Australasia & Oceania           2     2  ...      4     2     4     0     0   \n",
       "Central America & Caribbean   151   398  ...      8     3     8     5     3   \n",
       "Central Asia                    0     0  ...     18     6     7     8     9   \n",
       "East Asia                      35    14  ...     20     4     6     4     2   \n",
       "Eastern Europe                  2     1  ...    236   110    99    44    75   \n",
       "Middle East                     0     0  ...      0     0     0     0     0   \n",
       "Middle East & North Africa    120   412  ...    349   320   282   467   847   \n",
       "North America                 106    74  ...     48    33    33    12    21   \n",
       "South America                 170   176  ...    188   139   107    38    46   \n",
       "South Asia                      2    29  ...    374   327   348   353   557   \n",
       "Southeast Asia                 37    66  ...    178   108   139    95   202   \n",
       "Sub-Saharan Africa             37   101  ...    135   101    63    25    51   \n",
       "Western Europe                686   931  ...    233   120   121    58   100   \n",
       "\n",
       "iyear                        2006  2007  2008  2009  2010  \n",
       "region_txt                                                 \n",
       "Australasia & Oceania           2     1     8     1     1  \n",
       "Central America & Caribbean     5     4     0     9     0  \n",
       "Central Asia                    6     4    34    29     2  \n",
       "East Asia                       1     0    25     8     0  \n",
       "Eastern Europe                 65    60   206   162    85  \n",
       "Middle East                     0     0     0     0     1  \n",
       "Middle East & North Africa   1148  1370  1492  1336   551  \n",
       "North America                  14    19    30    15    11  \n",
       "South America                  40    46   128   152    70  \n",
       "South Asia                    896   924  1569  1747   849  \n",
       "Southeast Asia                267   363   473   539   275  \n",
       "Sub-Saharan Africa            102   285   323   199   104  \n",
       "Western Europe                 97    71   163   180    69  \n",
       "\n",
       "[13 rows x 40 columns]"
      ]
     },
     "execution_count": 18,
     "metadata": {},
     "output_type": "execute_result"
    }
   ],
   "source": [
    "data2.pivot_table(index = \"region_txt\", columns = \"iyear\", values = \"eventid\", aggfunc = \"count\", fill_value = 0)"
   ]
  },
  {
   "cell_type": "code",
   "execution_count": 19,
   "metadata": {},
   "outputs": [
    {
     "data": {
      "image/png": "[encoded data removed]",
      "text/plain": [
       "<matplotlib.figure.Figure at 0x1194384a8>"
      ]
     },
     "metadata": {},
     "output_type": "display_data"
    }
   ],
   "source": [
    "plt.subplots(figsize=(15,6))\n",
    "sns.countplot(data2.region_txt[data2.iyear.isin(np.arange(2004, 2017, 1))],\\\n",
    "              hue = data2.iyear[data2.iyear.isin(np.arange(2004, 2017, 1))],\\\n",
    "              order = data2.region_txt[data2.iyear.isin(np.arange(2004, 2017, 1))].value_counts().index)\n",
    "plt.xticks(rotation = 90)\n",
    "plt.legend(loc = \"upper right\")\n",
    "plt.title(\"Distribution of Terrorist Attacks by Year and Region\")\n",
    "plt.xlabel(\"Region\")\n",
    "plt.show()"
   ]
  },
  {
   "cell_type": "markdown",
   "metadata": {},
   "source": [
    "#### Examining Distribution of Attack Types By Year"
   ]
  },
  {
   "cell_type": "code",
   "execution_count": 20,
   "metadata": {},
   "outputs": [
    {
     "data": {
      "text/html": [
       "<div>\n",
       "<style scoped>\n",
       "    .dataframe tbody tr th:only-of-type {\n",
       "        vertical-align: middle;\n",
       "    }\n",
       "\n",
       "    .dataframe tbody tr th {\n",
       "        vertical-align: top;\n",
       "    }\n",
       "\n",
       "    .dataframe thead th {\n",
       "        text-align: right;\n",
       "    }\n",
       "</style>\n",
       "<table border=\"1\" class=\"dataframe\">\n",
       "  <thead>\n",
       "    <tr style=\"text-align: right;\">\n",
       "      <th>iyear</th>\n",
       "      <th>1970</th>\n",
       "      <th>1971</th>\n",
       "      <th>1972</th>\n",
       "      <th>1973</th>\n",
       "      <th>1974</th>\n",
       "      <th>1975</th>\n",
       "      <th>1976</th>\n",
       "      <th>1977</th>\n",
       "      <th>1978</th>\n",
       "      <th>1979</th>\n",
       "      <th>...</th>\n",
       "      <th>2001</th>\n",
       "      <th>2002</th>\n",
       "      <th>2003</th>\n",
       "      <th>2004</th>\n",
       "      <th>2005</th>\n",
       "      <th>2006</th>\n",
       "      <th>2007</th>\n",
       "      <th>2008</th>\n",
       "      <th>2009</th>\n",
       "      <th>2010</th>\n",
       "    </tr>\n",
       "    <tr>\n",
       "      <th>attacktype1_txt</th>\n",
       "      <th></th>\n",
       "      <th></th>\n",
       "      <th></th>\n",
       "      <th></th>\n",
       "      <th></th>\n",
       "      <th></th>\n",
       "      <th></th>\n",
       "      <th></th>\n",
       "      <th></th>\n",
       "      <th></th>\n",
       "      <th></th>\n",
       "      <th></th>\n",
       "      <th></th>\n",
       "      <th></th>\n",
       "      <th></th>\n",
       "      <th></th>\n",
       "      <th></th>\n",
       "      <th></th>\n",
       "      <th></th>\n",
       "      <th></th>\n",
       "      <th></th>\n",
       "    </tr>\n",
       "  </thead>\n",
       "  <tbody>\n",
       "    <tr>\n",
       "      <th>Armed Assault</th>\n",
       "      <td>61</td>\n",
       "      <td>44</td>\n",
       "      <td>63</td>\n",
       "      <td>62</td>\n",
       "      <td>46</td>\n",
       "      <td>81</td>\n",
       "      <td>124</td>\n",
       "      <td>255</td>\n",
       "      <td>241</td>\n",
       "      <td>442</td>\n",
       "      <td>...</td>\n",
       "      <td>580</td>\n",
       "      <td>364</td>\n",
       "      <td>308</td>\n",
       "      <td>256</td>\n",
       "      <td>506</td>\n",
       "      <td>735</td>\n",
       "      <td>846</td>\n",
       "      <td>1081</td>\n",
       "      <td>1101</td>\n",
       "      <td>453</td>\n",
       "    </tr>\n",
       "    <tr>\n",
       "      <th>Assassination</th>\n",
       "      <td>17</td>\n",
       "      <td>67</td>\n",
       "      <td>191</td>\n",
       "      <td>158</td>\n",
       "      <td>155</td>\n",
       "      <td>177</td>\n",
       "      <td>198</td>\n",
       "      <td>141</td>\n",
       "      <td>244</td>\n",
       "      <td>442</td>\n",
       "      <td>...</td>\n",
       "      <td>126</td>\n",
       "      <td>71</td>\n",
       "      <td>84</td>\n",
       "      <td>101</td>\n",
       "      <td>218</td>\n",
       "      <td>138</td>\n",
       "      <td>137</td>\n",
       "      <td>202</td>\n",
       "      <td>220</td>\n",
       "      <td>144</td>\n",
       "    </tr>\n",
       "    <tr>\n",
       "      <th>Bombing/Explosion</th>\n",
       "      <td>333</td>\n",
       "      <td>238</td>\n",
       "      <td>187</td>\n",
       "      <td>149</td>\n",
       "      <td>281</td>\n",
       "      <td>369</td>\n",
       "      <td>418</td>\n",
       "      <td>630</td>\n",
       "      <td>639</td>\n",
       "      <td>1047</td>\n",
       "      <td>...</td>\n",
       "      <td>801</td>\n",
       "      <td>721</td>\n",
       "      <td>680</td>\n",
       "      <td>655</td>\n",
       "      <td>1062</td>\n",
       "      <td>1500</td>\n",
       "      <td>1863</td>\n",
       "      <td>2660</td>\n",
       "      <td>2566</td>\n",
       "      <td>1157</td>\n",
       "    </tr>\n",
       "    <tr>\n",
       "      <th>Facility/Infrastructure Attack</th>\n",
       "      <td>174</td>\n",
       "      <td>88</td>\n",
       "      <td>18</td>\n",
       "      <td>36</td>\n",
       "      <td>42</td>\n",
       "      <td>64</td>\n",
       "      <td>113</td>\n",
       "      <td>180</td>\n",
       "      <td>177</td>\n",
       "      <td>179</td>\n",
       "      <td>...</td>\n",
       "      <td>141</td>\n",
       "      <td>47</td>\n",
       "      <td>86</td>\n",
       "      <td>30</td>\n",
       "      <td>43</td>\n",
       "      <td>103</td>\n",
       "      <td>115</td>\n",
       "      <td>272</td>\n",
       "      <td>336</td>\n",
       "      <td>160</td>\n",
       "    </tr>\n",
       "    <tr>\n",
       "      <th>Hijacking</th>\n",
       "      <td>8</td>\n",
       "      <td>3</td>\n",
       "      <td>6</td>\n",
       "      <td>4</td>\n",
       "      <td>3</td>\n",
       "      <td>0</td>\n",
       "      <td>2</td>\n",
       "      <td>5</td>\n",
       "      <td>0</td>\n",
       "      <td>9</td>\n",
       "      <td>...</td>\n",
       "      <td>14</td>\n",
       "      <td>5</td>\n",
       "      <td>3</td>\n",
       "      <td>1</td>\n",
       "      <td>2</td>\n",
       "      <td>3</td>\n",
       "      <td>7</td>\n",
       "      <td>12</td>\n",
       "      <td>17</td>\n",
       "      <td>3</td>\n",
       "    </tr>\n",
       "    <tr>\n",
       "      <th>Hostage Taking (Barricade Incident)</th>\n",
       "      <td>3</td>\n",
       "      <td>1</td>\n",
       "      <td>4</td>\n",
       "      <td>7</td>\n",
       "      <td>5</td>\n",
       "      <td>11</td>\n",
       "      <td>6</td>\n",
       "      <td>12</td>\n",
       "      <td>39</td>\n",
       "      <td>60</td>\n",
       "      <td>...</td>\n",
       "      <td>4</td>\n",
       "      <td>4</td>\n",
       "      <td>1</td>\n",
       "      <td>3</td>\n",
       "      <td>0</td>\n",
       "      <td>6</td>\n",
       "      <td>6</td>\n",
       "      <td>2</td>\n",
       "      <td>4</td>\n",
       "      <td>4</td>\n",
       "    </tr>\n",
       "    <tr>\n",
       "      <th>Hostage Taking (Kidnapping)</th>\n",
       "      <td>3</td>\n",
       "      <td>1</td>\n",
       "      <td>6</td>\n",
       "      <td>7</td>\n",
       "      <td>4</td>\n",
       "      <td>5</td>\n",
       "      <td>3</td>\n",
       "      <td>2</td>\n",
       "      <td>3</td>\n",
       "      <td>18</td>\n",
       "      <td>...</td>\n",
       "      <td>84</td>\n",
       "      <td>51</td>\n",
       "      <td>35</td>\n",
       "      <td>59</td>\n",
       "      <td>76</td>\n",
       "      <td>143</td>\n",
       "      <td>167</td>\n",
       "      <td>189</td>\n",
       "      <td>114</td>\n",
       "      <td>88</td>\n",
       "    </tr>\n",
       "    <tr>\n",
       "      <th>Unarmed Assault</th>\n",
       "      <td>3</td>\n",
       "      <td>0</td>\n",
       "      <td>0</td>\n",
       "      <td>3</td>\n",
       "      <td>4</td>\n",
       "      <td>0</td>\n",
       "      <td>3</td>\n",
       "      <td>0</td>\n",
       "      <td>5</td>\n",
       "      <td>7</td>\n",
       "      <td>...</td>\n",
       "      <td>41</td>\n",
       "      <td>10</td>\n",
       "      <td>20</td>\n",
       "      <td>4</td>\n",
       "      <td>6</td>\n",
       "      <td>15</td>\n",
       "      <td>6</td>\n",
       "      <td>33</td>\n",
       "      <td>19</td>\n",
       "      <td>8</td>\n",
       "    </tr>\n",
       "  </tbody>\n",
       "</table>\n",
       "<p>8 rows × 40 columns</p>\n",
       "</div>"
      ],
      "text/plain": [
       "iyear                                1970  1971  1972  1973  1974  1975  1976  \\\n",
       "attacktype1_txt                                                                 \n",
       "Armed Assault                          61    44    63    62    46    81   124   \n",
       "Assassination                          17    67   191   158   155   177   198   \n",
       "Bombing/Explosion                     333   238   187   149   281   369   418   \n",
       "Facility/Infrastructure Attack        174    88    18    36    42    64   113   \n",
       "Hijacking                               8     3     6     4     3     0     2   \n",
       "Hostage Taking (Barricade Incident)     3     1     4     7     5    11     6   \n",
       "Hostage Taking (Kidnapping)             3     1     6     7     4     5     3   \n",
       "Unarmed Assault                         3     0     0     3     4     0     3   \n",
       "\n",
       "iyear                                1977  1978  1979  ...   2001  2002  2003  \\\n",
       "attacktype1_txt                                        ...                      \n",
       "Armed Assault                         255   241   442  ...    580   364   308   \n",
       "Assassination                         141   244   442  ...    126    71    84   \n",
       "Bombing/Explosion                     630   639  1047  ...    801   721   680   \n",
       "Facility/Infrastructure Attack        180   177   179  ...    141    47    86   \n",
       "Hijacking                               5     0     9  ...     14     5     3   \n",
       "Hostage Taking (Barricade Incident)    12    39    60  ...      4     4     1   \n",
       "Hostage Taking (Kidnapping)             2     3    18  ...     84    51    35   \n",
       "Unarmed Assault                         0     5     7  ...     41    10    20   \n",
       "\n",
       "iyear                                2004  2005  2006  2007  2008  2009  2010  \n",
       "attacktype1_txt                                                                \n",
       "Armed Assault                         256   506   735   846  1081  1101   453  \n",
       "Assassination                         101   218   138   137   202   220   144  \n",
       "Bombing/Explosion                     655  1062  1500  1863  2660  2566  1157  \n",
       "Facility/Infrastructure Attack         30    43   103   115   272   336   160  \n",
       "Hijacking                               1     2     3     7    12    17     3  \n",
       "Hostage Taking (Barricade Incident)     3     0     6     6     2     4     4  \n",
       "Hostage Taking (Kidnapping)            59    76   143   167   189   114    88  \n",
       "Unarmed Assault                         4     6    15     6    33    19     8  \n",
       "\n",
       "[8 rows x 40 columns]"
      ]
     },
     "execution_count": 20,
     "metadata": {},
     "output_type": "execute_result"
    }
   ],
   "source": [
    "data2.pivot_table(index = \"attacktype1_txt\", columns = \"iyear\", values = \"eventid\", aggfunc = \"count\", fill_value = 0)"
   ]
  },
  {
   "cell_type": "code",
   "execution_count": 21,
   "metadata": {},
   "outputs": [
    {
     "data": {
      "image/png": "[encoded data removed]",
      "text/plain": [
       "<matplotlib.figure.Figure at 0x11694e828>"
      ]
     },
     "metadata": {},
     "output_type": "display_data"
    }
   ],
   "source": [
    "plt.subplots(figsize=(15,6))\n",
    "sns.countplot(data2.attacktype1_txt[data2.iyear.isin(np.arange(2004, 2017, 1))],\\\n",
    "              hue = data2.iyear[data2.iyear.isin(np.arange(2004, 2017, 1))])\n",
    "plt.xticks(rotation = 90)\n",
    "plt.legend(loc = \"upper right\")\n",
    "plt.title(\"Distribution of Attack Type By Year\")\n",
    "plt.xlabel(\"Attack Type\")\n",
    "plt.show()"
   ]
  },
  {
   "cell_type": "markdown",
   "metadata": {},
   "source": [
    "#### Examining Distribution of Attack Types By Month"
   ]
  },
  {
   "cell_type": "code",
   "execution_count": 22,
   "metadata": {},
   "outputs": [
    {
     "data": {
      "image/png": "[encoded data removed]",
      "text/plain": [
       "<matplotlib.figure.Figure at 0x1193fdcf8>"
      ]
     },
     "metadata": {},
     "output_type": "display_data"
    }
   ],
   "source": [
    "plt.subplots(figsize=(15,6))\n",
    "sns.countplot(data2.attacktype1_txt,\\\n",
    "              hue = data2.imonth)\n",
    "plt.xticks(rotation = 90)\n",
    "plt.legend(loc = \"upper right\")\n",
    "plt.title(\"Distribution of Attack Type By Month\")\n",
    "plt.xlabel(\"Attack Type\")\n",
    "plt.show()"
   ]
  },
  {
   "cell_type": "markdown",
   "metadata": {},
   "source": [
    "#### Examining Distribution of Terrorist Attacks by Month and Regions"
   ]
  },
  {
   "cell_type": "code",
   "execution_count": 23,
   "metadata": {},
   "outputs": [
    {
     "data": {
      "image/png": "[encoded data removed]",
      "text/plain": [
       "<matplotlib.figure.Figure at 0x118761978>"
      ]
     },
     "metadata": {},
     "output_type": "display_data"
    }
   ],
   "source": [
    "plt.subplots(figsize=(15,6))\n",
    "sns.countplot(data2.region_txt,\\\n",
    "              hue = data2.imonth)\n",
    "plt.xticks(rotation = 90)\n",
    "plt.legend(loc = \"upper right\")\n",
    "plt.title(\"Distribution of Terrorist Attacks By Month and Regions\")\n",
    "plt.xlabel(\"Region\")\n",
    "plt.show()"
   ]
  },
  {
   "cell_type": "markdown",
   "metadata": {},
   "source": [
    "The distribution is relatively uniform for most the regions, but there may be some trends for regions such as South America, Middle East and North Africa, and South Asia\n",
    "\n",
    "Also, there are usually spikes in every other month starting from January, suggesting a possibility of patterns in terrorist attacks"
   ]
  },
  {
   "cell_type": "markdown",
   "metadata": {},
   "source": [
    "### Multinomial Logistic Regression"
   ]
  },
  {
   "cell_type": "markdown",
   "metadata": {},
   "source": [
    "#### Creating X and y Variables"
   ]
  },
  {
   "cell_type": "code",
   "execution_count": 24,
   "metadata": {},
   "outputs": [],
   "source": [
    "X_temp = data2.loc[:,[\"imonth\", \"crit1\", \"crit2\", \"crit3\", \"multiple\", \\\n",
    "          \"country_txt\", \"region_txt\", \"weaptype1_txt\", \\\n",
    "          \"suicide\", \"targtype1_txt\", \"target1\", \\\n",
    "          \"gname\", \"attacktype1_txt\"]]\n",
    "X_temp2 = X_temp.dropna()\n",
    "X = X_temp2.loc[:,[\"imonth\", \"crit1\", \"crit2\", \"crit3\", \"multiple\", \\\n",
    "          \"country_txt\", \"region_txt\", \"weaptype1_txt\", \\\n",
    "          \"suicide\", \"targtype1_txt\", \"target1\", \\\n",
    "          \"gname\"]]"
   ]
  },
  {
   "cell_type": "code",
   "execution_count": 25,
   "metadata": {},
   "outputs": [],
   "source": [
    "X[\"target1\"] = X[\"target1\"].astype(str)\n",
    "X[\"gname\"] = X[\"gname\"].astype(str)"
   ]
  },
  {
   "cell_type": "code",
   "execution_count": 26,
   "metadata": {},
   "outputs": [],
   "source": [
    "y_temp = X_temp2.loc[:,\"attacktype1_txt\"]"
   ]
  },
  {
   "cell_type": "code",
   "execution_count": 27,
   "metadata": {},
   "outputs": [
    {
     "name": "stdout",
     "output_type": "stream",
     "text": [
      "['Bombing/Explosion' 'Facility/Infrastructure Attack' 'Armed Assault'\n",
      " 'Assassination' 'Hijacking' 'Hostage Taking (Kidnapping)'\n",
      " 'Unarmed Assault' 'Hostage Taking (Barricade Incident)']\n"
     ]
    }
   ],
   "source": [
    "group = y_temp.unique()\n",
    "print(group)"
   ]
  },
  {
   "cell_type": "code",
   "execution_count": 28,
   "metadata": {},
   "outputs": [],
   "source": [
    "# Binarize the output\n",
    "y = label_binarize(y_temp, classes=group)\n",
    "n_classes = y.shape[1]"
   ]
  },
  {
   "cell_type": "code",
   "execution_count": 29,
   "metadata": {},
   "outputs": [],
   "source": [
    "X_train, X_test, y_train, y_test = train_test_split(X, y, test_size = 0.4, random_state = 40)"
   ]
  },
  {
   "cell_type": "code",
   "execution_count": 30,
   "metadata": {},
   "outputs": [
    {
     "name": "stdout",
     "output_type": "stream",
     "text": [
      "(52873, 8)\n",
      "(52873, 12)\n"
     ]
    }
   ],
   "source": [
    "print(y_train.shape)\n",
    "print(X_train.shape)"
   ]
  },
  {
   "cell_type": "code",
   "execution_count": 31,
   "metadata": {},
   "outputs": [
    {
     "name": "stdout",
     "output_type": "stream",
     "text": [
      "3                 Bombing/Explosion\n",
      "4    Facility/Infrastructure Attack\n",
      "5                     Armed Assault\n",
      "6                     Assassination\n",
      "7                 Bombing/Explosion\n",
      "Name: attacktype1_txt, dtype: object\n",
      "[[1 0 0 ... 0 0 0]\n",
      " [0 1 0 ... 0 0 0]\n",
      " [0 0 1 ... 0 0 0]\n",
      " ...\n",
      " [0 0 0 ... 0 0 0]\n",
      " [0 0 1 ... 0 0 0]\n",
      " [1 0 0 ... 0 0 0]]\n"
     ]
    }
   ],
   "source": [
    "print(y_temp.head())\n",
    "print(y)"
   ]
  },
  {
   "cell_type": "code",
   "execution_count": 32,
   "metadata": {},
   "outputs": [
    {
     "name": "stderr",
     "output_type": "stream",
     "text": [
      "/Users/tessabbey/anaconda3/lib/python3.6/site-packages/ipykernel_launcher.py:10: SettingWithCopyWarning: \n",
      "A value is trying to be set on a copy of a slice from a DataFrame.\n",
      "Try using .loc[row_indexer,col_indexer] = value instead\n",
      "\n",
      "See the caveats in the documentation: http://pandas.pydata.org/pandas-docs/stable/indexing.html#indexing-view-versus-copy\n",
      "  # Remove the CWD from sys.path while we load stuff.\n",
      "/Users/tessabbey/anaconda3/lib/python3.6/site-packages/ipykernel_launcher.py:11: SettingWithCopyWarning: \n",
      "A value is trying to be set on a copy of a slice from a DataFrame.\n",
      "Try using .loc[row_indexer,col_indexer] = value instead\n",
      "\n",
      "See the caveats in the documentation: http://pandas.pydata.org/pandas-docs/stable/indexing.html#indexing-view-versus-copy\n",
      "  # This is added back by InteractiveShellApp.init_path()\n"
     ]
    }
   ],
   "source": [
    "le=LabelEncoder()\n",
    "\n",
    "# Iterating over all the common columns in train and test\n",
    "for col in X_test.columns.values:\n",
    "    # Encoding only categorical variables\n",
    "    if X_test[col].dtypes=='object':\n",
    "    # Using whole data to form an exhaustive list of levels\n",
    "        data3 = X_train[col].append(X_test[col])\n",
    "        le.fit(data3.values)\n",
    "        X_train[col] = le.transform(X_train[col])\n",
    "        X_test[col] = le.transform(X_test[col])"
   ]
  },
  {
   "cell_type": "code",
   "execution_count": null,
   "metadata": {},
   "outputs": [],
   "source": []
  },
  {
   "cell_type": "markdown",
   "metadata": {},
   "source": [
    "logreg = LogisticRegression(multi_class='ovr')"
   ]
  },
  {
   "cell_type": "markdown",
   "metadata": {},
   "source": [
    "logreg.fit(X_train, y_train)"
   ]
  },
  {
   "cell_type": "markdown",
   "metadata": {},
   "source": [
    "y_pred = logreg.predict(X_test)"
   ]
  },
  {
   "cell_type": "markdown",
   "metadata": {},
   "source": [
    "print(confusion_matrix(y_test, y_pred))"
   ]
  },
  {
   "cell_type": "markdown",
   "metadata": {},
   "source": [
    "accuracy_score(y_test,logreg.predict(X_test))"
   ]
  },
  {
   "cell_type": "code",
   "execution_count": null,
   "metadata": {},
   "outputs": [],
   "source": []
  },
  {
   "cell_type": "code",
   "execution_count": null,
   "metadata": {},
   "outputs": [],
   "source": []
  },
  {
   "cell_type": "code",
   "execution_count": 48,
   "metadata": {},
   "outputs": [
    {
     "name": "stdout",
     "output_type": "stream",
     "text": [
      "Collecting plotly\n",
      "  Downloading https://files.pythonhosted.org/packages/c4/0c/1b8241395302fd66b34a0fe0774ed83632afd14aa5c995b262fb7b3ac540/plotly-2.7.0.tar.gz (25.0MB)\n",
      "\u001b[K    100% |████████████████████████████████| 25.0MB 33kB/s  eta 0:00:01    75% |████████████████████████▏       | 18.9MB 10.4MB/s eta 0:00:01\n",
      "\u001b[?25hRequirement already satisfied: decorator>=4.0.6 in ./anaconda3/lib/python3.6/site-packages (from plotly)\n",
      "Requirement already satisfied: nbformat>=4.2 in ./anaconda3/lib/python3.6/site-packages (from plotly)\n",
      "Requirement already satisfied: pytz in ./anaconda3/lib/python3.6/site-packages (from plotly)\n",
      "Requirement already satisfied: requests in ./anaconda3/lib/python3.6/site-packages (from plotly)\n",
      "Requirement already satisfied: six in ./anaconda3/lib/python3.6/site-packages (from plotly)\n",
      "Requirement already satisfied: ipython_genutils in ./anaconda3/lib/python3.6/site-packages (from nbformat>=4.2->plotly)\n",
      "Requirement already satisfied: traitlets>=4.1 in ./anaconda3/lib/python3.6/site-packages (from nbformat>=4.2->plotly)\n",
      "Requirement already satisfied: jsonschema!=2.5.0,>=2.4 in ./anaconda3/lib/python3.6/site-packages (from nbformat>=4.2->plotly)\n",
      "Requirement already satisfied: jupyter_core in ./anaconda3/lib/python3.6/site-packages (from nbformat>=4.2->plotly)\n",
      "Requirement already satisfied: chardet<3.1.0,>=3.0.2 in ./anaconda3/lib/python3.6/site-packages (from requests->plotly)\n",
      "Requirement already satisfied: idna<2.7,>=2.5 in ./anaconda3/lib/python3.6/site-packages (from requests->plotly)\n",
      "Requirement already satisfied: urllib3<1.23,>=1.21.1 in ./anaconda3/lib/python3.6/site-packages (from requests->plotly)\n",
      "Requirement already satisfied: certifi>=2017.4.17 in ./anaconda3/lib/python3.6/site-packages (from requests->plotly)\n",
      "Building wheels for collected packages: plotly\n",
      "  Running setup.py bdist_wheel for plotly ... \u001b[?25ldone\n",
      "\u001b[?25h  Stored in directory: /Users/tessabbey/Library/Caches/pip/wheels/0c/3e/07/4848195c61f659184ca41d5a614845a018ab2d2f2a705b9998\n",
      "Successfully built plotly\n",
      "Installing collected packages: plotly\n",
      "Successfully installed plotly-2.7.0\n",
      "\u001b[33mYou are using pip version 9.0.1, however version 10.0.1 is available.\n",
      "You should consider upgrading via the 'pip install --upgrade pip' command.\u001b[0m\n"
     ]
    }
   ],
   "source": [
    "!pip install plotly\n"
   ]
  },
  {
   "cell_type": "code",
   "execution_count": 13,
   "metadata": {},
   "outputs": [],
   "source": [
    "data3= data2['iyear'] >=2000\n",
    "data3=data2[data3]"
   ]
  },
  {
   "cell_type": "code",
   "execution_count": 18,
   "metadata": {},
   "outputs": [
    {
     "name": "stdout",
     "output_type": "stream",
     "text": [
      "High five! You successfully sent some data to your account on plotly. View your plot in your browser at https://plot.ly/~tabbey14/0 or inside your plot.ly account where it is named 'terrorattacks'\n"
     ]
    },
    {
     "data": {
      "text/html": [
       "<iframe id=\"igraph\" scrolling=\"no\" style=\"border:none;\" seamless=\"seamless\" src=\"https://plot.ly/~tabbey14/0.embed\" height=\"525px\" width=\"100%\"></iframe>"
      ],
      "text/plain": [
       "<plotly.tools.PlotlyDisplay object>"
      ]
     },
     "execution_count": 18,
     "metadata": {},
     "output_type": "execute_result"
    }
   ],
   "source": [
    "import plotly\n",
    "plotly.tools.set_credentials_file(username='tabbey14', api_key='jsOhl2fOpN3IQVSf1cdN')\n",
    "import plotly.plotly as py\n",
    "import pandas as pd\n",
    "\n",
    "\n",
    "data4 = [ dict(\n",
    "    lat = data3['latitude'],\n",
    "    lon = data3['longitude'],\n",
    "    text = data3['attacktype1_txt'],\n",
    "    marker = dict(\n",
    "        color = data3['attacktype1'].values,\n",
    "        colorscale = \"Viridis\",\n",
    "        reversescale = True,\n",
    "        opacity = 0.7,\n",
    "        size = 10,\n",
    "        colorbar = dict(\n",
    "            thickness = 10,\n",
    "            titleside = \"right\",\n",
    "            outlinecolor = \"Viridis\",\n",
    "            ticktext= data3['attacktype1_txt']\n",
    "        ),\n",
    "    ),\n",
    "    type = 'scattergeo'\n",
    ") ]\n",
    "\n",
    "layout = dict(\n",
    "    geo = dict(\n",
    "        scope = 'world',\n",
    "        showland = True,\n",
    "        landcolor = \"rgb(212, 212, 212)\",\n",
    "        subunitcolor = \"rgb(255, 255, 255)\",\n",
    "        countrycolor = \"rgb(255, 255, 255)\",\n",
    "        showlakes = True,\n",
    "        lakecolor = \"rgb(255, 255, 255)\",\n",
    "        showsubunits = True,\n",
    "        showcountries = True,\n",
    "        resolution = 50,\n",
    "        projection = dict(\n",
    "            type = 'conic conformal',\n",
    "            rotation = dict(\n",
    "                lon = -100\n",
    "            )\n",
    "        ),\n",
    "        lonaxis = dict(\n",
    "            showgrid = True,\n",
    "            gridwidth = 0.5,\n",
    "            range= [ -140.0, -55.0 ],\n",
    "            dtick = 5\n",
    "        ),\n",
    "        lataxis = dict (\n",
    "            showgrid = True,\n",
    "            gridwidth = 0.5,\n",
    "            range= [ 20.0, 60.0 ],\n",
    "            dtick = 5\n",
    "        )\n",
    "    ),\n",
    "    title = 'World Distribution of Attack Type 2000-2016',\n",
    ")\n",
    "fig = { 'data':data4, 'layout':layout }\n",
    "py.iplot(fig, filename='terrorattacks')"
   ]
  },
  {
   "cell_type": "code",
   "execution_count": null,
   "metadata": {},
   "outputs": [],
   "source": [
    "#It appears that North America has had more infrastructure attacks from 2000 to \n",
    "#Where as the rest of the world has more bombings/armed assaults"
   ]
  },
  {
   "cell_type": "code",
   "execution_count": 21,
   "metadata": {},
   "outputs": [
    {
     "name": "stdout",
     "output_type": "stream",
     "text": [
      "<class 'pandas.core.frame.DataFrame'>\n",
      "Int64Index: 88674 entries, 3 to 96926\n",
      "Data columns (total 27 columns):\n",
      "eventid            88674 non-null int64\n",
      "iyear              88674 non-null int64\n",
      "imonth             88674 non-null int64\n",
      "crit1              88673 non-null float64\n",
      "crit2              88673 non-null float64\n",
      "crit3              88673 non-null float64\n",
      "doubtterr          88673 non-null float64\n",
      "multiple           88673 non-null float64\n",
      "country            88674 non-null int64\n",
      "country_txt        88674 non-null object\n",
      "region             88674 non-null int64\n",
      "region_txt         88674 non-null object\n",
      "attacktype1        88673 non-null float64\n",
      "attacktype1_txt    88673 non-null object\n",
      "success            88673 non-null float64\n",
      "weaptype1          88673 non-null float64\n",
      "weaptype1_txt      88673 non-null object\n",
      "suicide            88673 non-null float64\n",
      "targtype1          88673 non-null float64\n",
      "targtype1_txt      88673 non-null object\n",
      "target1            88123 non-null object\n",
      "natlty1            88290 non-null float64\n",
      "gname              88673 non-null object\n",
      "INT_LOG            88673 non-null float64\n",
      "INT_IDEO           88673 non-null float64\n",
      "latitude           85254 non-null float64\n",
      "longitude          85254 non-null float64\n",
      "dtypes: float64(15), int64(5), object(7)\n",
      "memory usage: 18.9+ MB\n"
     ]
    }
   ],
   "source": [
    "data4=data2['iyear']<2000\n",
    "data4=data2[data4]"
   ]
  },
  {
   "cell_type": "code",
   "execution_count": 23,
   "metadata": {},
   "outputs": [
    {
     "name": "stderr",
     "output_type": "stream",
     "text": [
      "/Users/tessabbey/anaconda3/lib/python3.6/site-packages/plotly/plotly/plotly.py:224: UserWarning:\n",
      "\n",
      "Woah there! Look at all those points! Due to browser limitations, the Plotly SVG drawing functions have a hard time graphing more than 500k data points for line charts, or 40k points for other types of charts. Here are some suggestions:\n",
      "(1) Use the `plotly.graph_objs.Scattergl` trace object to generate a WebGl graph.\n",
      "(2) Trying using the image API to return an image instead of a graph URL\n",
      "(3) Use matplotlib\n",
      "(4) See if you can create your visualization with fewer data points\n",
      "\n",
      "If the visualization you're using aggregates points (e.g., box plot, histogram, etc.) you can disregard this warning.\n",
      "\n"
     ]
    },
    {
     "data": {
      "text/html": [
       "<iframe id=\"igraph\" scrolling=\"no\" style=\"border:none;\" seamless=\"seamless\" src=\"https://plot.ly/~tabbey14/2.embed\" height=\"525px\" width=\"100%\"></iframe>"
      ],
      "text/plain": [
       "<plotly.tools.PlotlyDisplay object>"
      ]
     },
     "execution_count": 23,
     "metadata": {},
     "output_type": "execute_result"
    }
   ],
   "source": [
    "\n",
    "data5 = [ dict(\n",
    "    lat = data4['latitude'],\n",
    "    lon = data4['longitude'],\n",
    "    text = data4['attacktype1_txt'],\n",
    "    marker = dict(\n",
    "        color = data4['attacktype1'].values,\n",
    "        colorscale = \"Viridis\",\n",
    "        reversescale = True,\n",
    "        opacity = 0.7,\n",
    "        size = 10,\n",
    "        colorbar = dict(\n",
    "            thickness = 10,\n",
    "            titleside = \"right\",\n",
    "            outlinecolor = \"Viridis\",\n",
    "            ticktext= data4['attacktype1_txt']\n",
    "        ),\n",
    "    ),\n",
    "    type = 'scattergeo'\n",
    ") ]\n",
    "\n",
    "layout = dict(\n",
    "    geo = dict(\n",
    "        scope = 'world',\n",
    "        showland = True,\n",
    "        landcolor = \"rgb(212, 212, 212)\",\n",
    "        subunitcolor = \"rgb(255, 255, 255)\",\n",
    "        countrycolor = \"rgb(255, 255, 255)\",\n",
    "        showlakes = True,\n",
    "        lakecolor = \"rgb(255, 255, 255)\",\n",
    "        showsubunits = True,\n",
    "        showcountries = True,\n",
    "        resolution = 50,\n",
    "        projection = dict(\n",
    "            type = 'conic conformal',\n",
    "            rotation = dict(\n",
    "                lon = -100\n",
    "            )\n",
    "        ),\n",
    "        lonaxis = dict(\n",
    "            showgrid = True,\n",
    "            gridwidth = 0.5,\n",
    "            range= [ -140.0, -55.0 ],\n",
    "            dtick = 5\n",
    "        ),\n",
    "        lataxis = dict (\n",
    "            showgrid = True,\n",
    "            gridwidth = 0.5,\n",
    "            range= [ 20.0, 60.0 ],\n",
    "            dtick = 5\n",
    "        )\n",
    "    ),\n",
    "    title = 'World Distribution of Attack Type 1970-2000',\n",
    ")\n",
    "fig = { 'data':data5, 'layout':layout }\n",
    "py.iplot(fig, filename='terrorattacks2')"
   ]
  },
  {
   "cell_type": "code",
   "execution_count": 85,
   "metadata": {},
   "outputs": [
    {
     "data": {
      "text/plain": [
       "<matplotlib.figure.Figure at 0x1a30de9fd0>"
      ]
     },
     "metadata": {},
     "output_type": "display_data"
    },
    {
     "data": {
      "image/png": "[encoded data removed]",
      "text/plain": [
       "<matplotlib.figure.Figure at 0x1a25afd400>"
      ]
     },
     "metadata": {},
     "output_type": "display_data"
    }
   ],
   "source": [
    "#Attack weapon by region\n",
    "\n",
    "plt.figure(figsize=(10,5))\n",
    "plot=pd.crosstab(data2.region_txt, data2.weaptype1_txt).plot.bar(stacked=True, width=1)\n",
    "plot.legend(loc=2, prop={'size': 5})\n",
    "plt.title('Weapon Type by Region')\n",
    "plt.show()"
   ]
  },
  {
   "cell_type": "code",
   "execution_count": 86,
   "metadata": {},
   "outputs": [],
   "source": [
    "#The most attacks happen in the Middle East & North Africa and South Asia \n",
    "#We also see that the vast majority of attacks are either done with expolissives/bombs/dynamite and firearms "
   ]
  },
  {
   "cell_type": "code",
   "execution_count": null,
   "metadata": {},
   "outputs": [],
   "source": []
  }
 ],
 "metadata": {
  "kernelspec": {
   "display_name": "Python 3",
   "language": "python",
   "name": "python3"
  },
  "language_info": {
   "codemirror_mode": {
    "name": "ipython",
    "version": 3
   },
   "file_extension": ".py",
   "mimetype": "text/x-python",
   "name": "python",
   "nbconvert_exporter": "python",
   "pygments_lexer": "ipython3",
   "version": "3.6.4"
  }
 },
 "nbformat": 4,
 "nbformat_minor": 2
}
