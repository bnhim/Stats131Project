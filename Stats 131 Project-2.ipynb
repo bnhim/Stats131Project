{
 "cells": [
  {
   "cell_type": "markdown",
   "metadata": {},
   "source": [
    "# Questions\n",
    "## 1. Which attack type would be used in the next global terrorist attack?\n",
    "## 2. Which variables best predict attack type?"
   ]
  },
  {
   "cell_type": "markdown",
   "metadata": {},
   "source": [
    "### Import Packages and Data"
   ]
  },
  {
   "cell_type": "code",
   "execution_count": 46,
   "metadata": {},
   "outputs": [],
   "source": [
    "import pandas as pd\n",
    "import numpy as np\n",
    "import matplotlib.pyplot as plt\n",
    "import seaborn as sns\n",
    "from sklearn.linear_model import LogisticRegression\n",
    "from sklearn.metrics import confusion_matrix, classification_report \n",
    "from sklearn.model_selection import train_test_split\n",
    "from sklearn.preprocessing import LabelEncoder\n",
    "from sklearn.preprocessing import label_binarize\n",
    "from sklearn.model_selection import GridSearchCV\n",
    "from sklearn.multiclass import OneVsRestClassifier\n",
    "from sklearn import svm\n",
    "from sklearn.metrics import accuracy_score\n",
    "from sklearn.metrics import roc_curve\n",
    "from sklearn.metrics import roc_auc_score\n",
    "from sklearn.model_selection import cross_val_score"
   ]
  },
  {
   "cell_type": "code",
   "execution_count": 2,
   "metadata": {},
   "outputs": [],
   "source": [
    "data = pd.read_csv(\"~/Desktop/Stats_131_Project/globalterrorism.csv\", encoding='ISO-8859-1', low_memory = False)"
   ]
  },
  {
   "cell_type": "code",
   "execution_count": 3,
   "metadata": {},
   "outputs": [
    {
     "data": {
      "text/html": [
       "<div>\n",
       "<style scoped>\n",
       "    .dataframe tbody tr th:only-of-type {\n",
       "        vertical-align: middle;\n",
       "    }\n",
       "\n",
       "    .dataframe tbody tr th {\n",
       "        vertical-align: top;\n",
       "    }\n",
       "\n",
       "    .dataframe thead th {\n",
       "        text-align: right;\n",
       "    }\n",
       "</style>\n",
       "<table border=\"1\" class=\"dataframe\">\n",
       "  <thead>\n",
       "    <tr style=\"text-align: right;\">\n",
       "      <th></th>\n",
       "      <th>eventid</th>\n",
       "      <th>iyear</th>\n",
       "      <th>imonth</th>\n",
       "      <th>iday</th>\n",
       "      <th>approxdate</th>\n",
       "      <th>extended</th>\n",
       "      <th>resolution</th>\n",
       "      <th>country</th>\n",
       "      <th>country_txt</th>\n",
       "      <th>region</th>\n",
       "      <th>...</th>\n",
       "      <th>addnotes</th>\n",
       "      <th>scite1</th>\n",
       "      <th>scite2</th>\n",
       "      <th>scite3</th>\n",
       "      <th>dbsource</th>\n",
       "      <th>INT_LOG</th>\n",
       "      <th>INT_IDEO</th>\n",
       "      <th>INT_MISC</th>\n",
       "      <th>INT_ANY</th>\n",
       "      <th>related</th>\n",
       "    </tr>\n",
       "  </thead>\n",
       "  <tbody>\n",
       "    <tr>\n",
       "      <th>0</th>\n",
       "      <td>197000000001</td>\n",
       "      <td>1970</td>\n",
       "      <td>7</td>\n",
       "      <td>2</td>\n",
       "      <td>NaN</td>\n",
       "      <td>0</td>\n",
       "      <td>NaN</td>\n",
       "      <td>58</td>\n",
       "      <td>Dominican Republic</td>\n",
       "      <td>2</td>\n",
       "      <td>...</td>\n",
       "      <td>NaN</td>\n",
       "      <td>NaN</td>\n",
       "      <td>NaN</td>\n",
       "      <td>NaN</td>\n",
       "      <td>PGIS</td>\n",
       "      <td>0</td>\n",
       "      <td>0</td>\n",
       "      <td>0</td>\n",
       "      <td>0</td>\n",
       "      <td>NaN</td>\n",
       "    </tr>\n",
       "    <tr>\n",
       "      <th>1</th>\n",
       "      <td>197000000002</td>\n",
       "      <td>1970</td>\n",
       "      <td>0</td>\n",
       "      <td>0</td>\n",
       "      <td>NaN</td>\n",
       "      <td>0</td>\n",
       "      <td>NaN</td>\n",
       "      <td>130</td>\n",
       "      <td>Mexico</td>\n",
       "      <td>1</td>\n",
       "      <td>...</td>\n",
       "      <td>NaN</td>\n",
       "      <td>NaN</td>\n",
       "      <td>NaN</td>\n",
       "      <td>NaN</td>\n",
       "      <td>PGIS</td>\n",
       "      <td>0</td>\n",
       "      <td>1</td>\n",
       "      <td>1</td>\n",
       "      <td>1</td>\n",
       "      <td>NaN</td>\n",
       "    </tr>\n",
       "    <tr>\n",
       "      <th>2</th>\n",
       "      <td>197001000001</td>\n",
       "      <td>1970</td>\n",
       "      <td>1</td>\n",
       "      <td>0</td>\n",
       "      <td>NaN</td>\n",
       "      <td>0</td>\n",
       "      <td>NaN</td>\n",
       "      <td>160</td>\n",
       "      <td>Philippines</td>\n",
       "      <td>5</td>\n",
       "      <td>...</td>\n",
       "      <td>NaN</td>\n",
       "      <td>NaN</td>\n",
       "      <td>NaN</td>\n",
       "      <td>NaN</td>\n",
       "      <td>PGIS</td>\n",
       "      <td>-9</td>\n",
       "      <td>-9</td>\n",
       "      <td>1</td>\n",
       "      <td>1</td>\n",
       "      <td>NaN</td>\n",
       "    </tr>\n",
       "    <tr>\n",
       "      <th>3</th>\n",
       "      <td>197001000002</td>\n",
       "      <td>1970</td>\n",
       "      <td>1</td>\n",
       "      <td>0</td>\n",
       "      <td>NaN</td>\n",
       "      <td>0</td>\n",
       "      <td>NaN</td>\n",
       "      <td>78</td>\n",
       "      <td>Greece</td>\n",
       "      <td>8</td>\n",
       "      <td>...</td>\n",
       "      <td>NaN</td>\n",
       "      <td>NaN</td>\n",
       "      <td>NaN</td>\n",
       "      <td>NaN</td>\n",
       "      <td>PGIS</td>\n",
       "      <td>-9</td>\n",
       "      <td>-9</td>\n",
       "      <td>1</td>\n",
       "      <td>1</td>\n",
       "      <td>NaN</td>\n",
       "    </tr>\n",
       "    <tr>\n",
       "      <th>4</th>\n",
       "      <td>197001000003</td>\n",
       "      <td>1970</td>\n",
       "      <td>1</td>\n",
       "      <td>0</td>\n",
       "      <td>NaN</td>\n",
       "      <td>0</td>\n",
       "      <td>NaN</td>\n",
       "      <td>101</td>\n",
       "      <td>Japan</td>\n",
       "      <td>4</td>\n",
       "      <td>...</td>\n",
       "      <td>NaN</td>\n",
       "      <td>NaN</td>\n",
       "      <td>NaN</td>\n",
       "      <td>NaN</td>\n",
       "      <td>PGIS</td>\n",
       "      <td>-9</td>\n",
       "      <td>-9</td>\n",
       "      <td>1</td>\n",
       "      <td>1</td>\n",
       "      <td>NaN</td>\n",
       "    </tr>\n",
       "  </tbody>\n",
       "</table>\n",
       "<p>5 rows × 135 columns</p>\n",
       "</div>"
      ],
      "text/plain": [
       "        eventid  iyear  imonth  iday approxdate  extended resolution  country  \\\n",
       "0  197000000001   1970       7     2        NaN         0        NaN       58   \n",
       "1  197000000002   1970       0     0        NaN         0        NaN      130   \n",
       "2  197001000001   1970       1     0        NaN         0        NaN      160   \n",
       "3  197001000002   1970       1     0        NaN         0        NaN       78   \n",
       "4  197001000003   1970       1     0        NaN         0        NaN      101   \n",
       "\n",
       "          country_txt  region   ...    addnotes scite1 scite2  scite3  \\\n",
       "0  Dominican Republic       2   ...         NaN    NaN    NaN     NaN   \n",
       "1              Mexico       1   ...         NaN    NaN    NaN     NaN   \n",
       "2         Philippines       5   ...         NaN    NaN    NaN     NaN   \n",
       "3              Greece       8   ...         NaN    NaN    NaN     NaN   \n",
       "4               Japan       4   ...         NaN    NaN    NaN     NaN   \n",
       "\n",
       "   dbsource  INT_LOG  INT_IDEO INT_MISC INT_ANY  related  \n",
       "0      PGIS        0         0        0       0      NaN  \n",
       "1      PGIS        0         1        1       1      NaN  \n",
       "2      PGIS       -9        -9        1       1      NaN  \n",
       "3      PGIS       -9        -9        1       1      NaN  \n",
       "4      PGIS       -9        -9        1       1      NaN  \n",
       "\n",
       "[5 rows x 135 columns]"
      ]
     },
     "execution_count": 3,
     "metadata": {},
     "output_type": "execute_result"
    }
   ],
   "source": [
    "data.head()"
   ]
  },
  {
   "cell_type": "code",
   "execution_count": 4,
   "metadata": {},
   "outputs": [
    {
     "name": "stdout",
     "output_type": "stream",
     "text": [
      "<class 'pandas.core.frame.DataFrame'>\n",
      "RangeIndex: 170350 entries, 0 to 170349\n",
      "Columns: 135 entries, eventid to related\n",
      "dtypes: float64(53), int64(24), object(58)\n",
      "memory usage: 175.5+ MB\n"
     ]
    }
   ],
   "source": [
    "data.info()"
   ]
  },
  {
   "cell_type": "code",
   "execution_count": 5,
   "metadata": {},
   "outputs": [
    {
     "data": {
      "text/plain": [
       "eventid                    0\n",
       "iyear                      0\n",
       "imonth                     0\n",
       "iday                       0\n",
       "approxdate            162886\n",
       "extended                   0\n",
       "resolution            168131\n",
       "country                    0\n",
       "country_txt                0\n",
       "region                     0\n",
       "region_txt                 0\n",
       "provstate              14502\n",
       "city                     446\n",
       "latitude                4606\n",
       "longitude               4606\n",
       "specificity                4\n",
       "vicinity                   0\n",
       "location              122376\n",
       "summary                66138\n",
       "crit1                      0\n",
       "crit2                      0\n",
       "crit3                      0\n",
       "doubtterr                  0\n",
       "alternative           143719\n",
       "alternative_txt       143719\n",
       "multiple                   0\n",
       "success                    0\n",
       "suicide                    0\n",
       "attacktype1                0\n",
       "attacktype1_txt            0\n",
       "                       ...  \n",
       "propextent            109805\n",
       "propextent_txt        109805\n",
       "propvalue             134863\n",
       "propcomment           115919\n",
       "ishostkid                178\n",
       "nhostkid              157858\n",
       "nhostkidus            157913\n",
       "nhours                166649\n",
       "ndays                 162942\n",
       "divert                170037\n",
       "kidhijcountry         167051\n",
       "ransom                 94037\n",
       "ransomamt             169071\n",
       "ransomamtus           169854\n",
       "ransompaid            169643\n",
       "ransompaidus          169863\n",
       "ransomnote            169879\n",
       "hostkidoutcome        160439\n",
       "hostkidoutcome_txt    160439\n",
       "nreleased             161028\n",
       "addnotes              144911\n",
       "scite1                 66200\n",
       "scite2                100765\n",
       "scite3                131133\n",
       "dbsource                   0\n",
       "INT_LOG                    0\n",
       "INT_IDEO                   0\n",
       "INT_MISC                   0\n",
       "INT_ANY                    0\n",
       "related               147505\n",
       "Length: 135, dtype: int64"
      ]
     },
     "execution_count": 5,
     "metadata": {},
     "output_type": "execute_result"
    }
   ],
   "source": [
    "data.isnull().sum()"
   ]
  },
  {
   "cell_type": "markdown",
   "metadata": {},
   "source": [
    "### Data Cleaning"
   ]
  },
  {
   "cell_type": "markdown",
   "metadata": {},
   "source": [
    "#### Remove Columns That Are Not Relevant in Predicting Attack Type Based On Our Intuitions"
   ]
  },
  {
   "cell_type": "code",
   "execution_count": 6,
   "metadata": {},
   "outputs": [],
   "source": [
    "data2= data[[\"eventid\", \"iyear\", \"imonth\", \"crit1\", \"crit2\", \\\n",
    "             \"crit3\", \"doubtterr\", \"multiple\", \"country\", \\\n",
    "             \"country_txt\", \"region\", \"region_txt\", \"attacktype1\", \\\n",
    "             \"attacktype1_txt\", \"success\", \"weaptype1\", \\\n",
    "             \"weaptype1_txt\", \"suicide\", \\\n",
    "             \"targtype1\", \"targtype1_txt\", \"target1\", \\\n",
    "             \"natlty1\", \"gname\", \\\n",
    "             \"INT_LOG\", \"INT_IDEO\", \"latitude\", \"longitude\"]]"
   ]
  },
  {
   "cell_type": "markdown",
   "metadata": {},
   "source": [
    "#### Remove Observations Whose Exact Month of Incident is Unknown (imonth = 0)"
   ]
  },
  {
   "cell_type": "code",
   "execution_count": 7,
   "metadata": {},
   "outputs": [],
   "source": [
    "data2 = data2[data2[\"imonth\"] != 0]"
   ]
  },
  {
   "cell_type": "code",
   "execution_count": 8,
   "metadata": {},
   "outputs": [
    {
     "name": "stdout",
     "output_type": "stream",
     "text": [
      "[ 7  1  2  3  4  5  6  8  9 10 11 12]\n"
     ]
    }
   ],
   "source": [
    "print(data2.imonth.unique())"
   ]
  },
  {
   "cell_type": "markdown",
   "metadata": {},
   "source": [
    "#### Remove Observations Whose Country is Unknown (country = Unknown)"
   ]
  },
  {
   "cell_type": "code",
   "execution_count": 9,
   "metadata": {},
   "outputs": [],
   "source": [
    "data2 = data2[data2[\"country_txt\"] != \"Unknown\"]"
   ]
  },
  {
   "cell_type": "code",
   "execution_count": 10,
   "metadata": {},
   "outputs": [
    {
     "data": {
      "text/plain": [
       "eventid               0\n",
       "iyear                 0\n",
       "imonth                0\n",
       "crit1                 0\n",
       "crit2                 0\n",
       "crit3                 0\n",
       "doubtterr             0\n",
       "multiple              0\n",
       "country               0\n",
       "country_txt           0\n",
       "region                0\n",
       "region_txt            0\n",
       "attacktype1           0\n",
       "attacktype1_txt       0\n",
       "success               0\n",
       "weaptype1             0\n",
       "weaptype1_txt         0\n",
       "suicide               0\n",
       "targtype1             0\n",
       "targtype1_txt         0\n",
       "target1             635\n",
       "natlty1            1394\n",
       "gname                 0\n",
       "INT_LOG               0\n",
       "INT_IDEO              0\n",
       "latitude           4602\n",
       "longitude          4602\n",
       "dtype: int64"
      ]
     },
     "execution_count": 10,
     "metadata": {},
     "output_type": "execute_result"
    }
   ],
   "source": [
    "data2.isnull().sum()"
   ]
  },
  {
   "cell_type": "code",
   "execution_count": 11,
   "metadata": {},
   "outputs": [
    {
     "name": "stdout",
     "output_type": "stream",
     "text": [
      "<class 'pandas.core.frame.DataFrame'>\n",
      "Int64Index: 170330 entries, 0 to 170349\n",
      "Data columns (total 27 columns):\n",
      "eventid            170330 non-null int64\n",
      "iyear              170330 non-null int64\n",
      "imonth             170330 non-null int64\n",
      "crit1              170330 non-null int64\n",
      "crit2              170330 non-null int64\n",
      "crit3              170330 non-null int64\n",
      "doubtterr          170330 non-null int64\n",
      "multiple           170330 non-null int64\n",
      "country            170330 non-null int64\n",
      "country_txt        170330 non-null object\n",
      "region             170330 non-null int64\n",
      "region_txt         170330 non-null object\n",
      "attacktype1        170330 non-null int64\n",
      "attacktype1_txt    170330 non-null object\n",
      "success            170330 non-null int64\n",
      "weaptype1          170330 non-null int64\n",
      "weaptype1_txt      170330 non-null object\n",
      "suicide            170330 non-null int64\n",
      "targtype1          170330 non-null int64\n",
      "targtype1_txt      170330 non-null object\n",
      "target1            169695 non-null object\n",
      "natlty1            168936 non-null float64\n",
      "gname              170330 non-null object\n",
      "INT_LOG            170330 non-null int64\n",
      "INT_IDEO           170330 non-null int64\n",
      "latitude           165728 non-null float64\n",
      "longitude          165728 non-null float64\n",
      "dtypes: float64(3), int64(17), object(7)\n",
      "memory usage: 36.4+ MB\n"
     ]
    }
   ],
   "source": [
    "data2.info()"
   ]
  },
  {
   "cell_type": "markdown",
   "metadata": {},
   "source": [
    "#### Remove Observations Whose Attack Type is Unknown (attacktype1_txt = Unknown)"
   ]
  },
  {
   "cell_type": "code",
   "execution_count": 12,
   "metadata": {},
   "outputs": [],
   "source": [
    "data2 = data2[data2[\"attacktype1_txt\"] != \"Unknown\"]"
   ]
  },
  {
   "cell_type": "markdown",
   "metadata": {},
   "source": [
    "#### Remove Observations Whose Weapon Type is Unknown (weaptype1_txt = Unknown)"
   ]
  },
  {
   "cell_type": "code",
   "execution_count": 13,
   "metadata": {},
   "outputs": [],
   "source": [
    "data2 = data2[data2[\"weaptype1_txt\"] != \"Unknown\"]"
   ]
  },
  {
   "cell_type": "markdown",
   "metadata": {},
   "source": [
    "### Exploratory Analysis"
   ]
  },
  {
   "cell_type": "markdown",
   "metadata": {},
   "source": [
    "#### Checking If the Categories With Smaller Counts Have Sufficient Observations for Modeling"
   ]
  },
  {
   "cell_type": "code",
   "execution_count": 14,
   "metadata": {},
   "outputs": [
    {
     "name": "stdout",
     "output_type": "stream",
     "text": [
      "913\n",
      "445\n",
      "754\n"
     ]
    }
   ],
   "source": [
    "print(len(data2[data2[\"attacktype1_txt\"] == \"Unarmed Assault\"]))\n",
    "print(len(data2[data2[\"attacktype1_txt\"] == \"Hijacking\"]))\n",
    "print(len(data2[data2[\"attacktype1_txt\"] == \"Hostage Taking (Barricade Incident)\"]))"
   ]
  },
  {
   "cell_type": "markdown",
   "metadata": {},
   "source": [
    "#### Examining the Distribution of Attack Type"
   ]
  },
  {
   "cell_type": "code",
   "execution_count": 15,
   "metadata": {},
   "outputs": [
    {
     "data": {
      "image/png": "[encoded data removed]",
      "text/plain": [
       "<matplotlib.figure.Figure at 0x10bfa82b0>"
      ]
     },
     "metadata": {},
     "output_type": "display_data"
    }
   ],
   "source": [
    "plt.subplots(figsize=(15, 6))\n",
    "sns.countplot(data2.attacktype1_txt, order = data2.attacktype1_txt.value_counts().index)\n",
    "plt.xticks(rotation = 90)\n",
    "plt.title(\"Barplot of Attack Type\")\n",
    "plt.xlabel(\"Attack Type\")\n",
    "plt.show()"
   ]
  },
  {
   "cell_type": "markdown",
   "metadata": {},
   "source": [
    "From the barplot, terrorist attacks in the form of bombing/ explosion happened with the highest frequency, followed by armed assault and assassination. Terrorist attacks in the form of facility/ infrastructure attack and hostage taking (kidnapping) also occurred with moderate frequencies. Hijacking, unarmed assault, and hostage taking (barricade incident) happened relatively less frequently."
   ]
  },
  {
   "cell_type": "markdown",
   "metadata": {},
   "source": [
    "#### Examining the Trend of Terrorist Attack"
   ]
  },
  {
   "cell_type": "code",
   "execution_count": 16,
   "metadata": {},
   "outputs": [
    {
     "data": {
      "image/png": "[encoded data removed]",
      "text/plain": [
       "<matplotlib.figure.Figure at 0x10bfa8438>"
      ]
     },
     "metadata": {},
     "output_type": "display_data"
    }
   ],
   "source": [
    "plt.subplots(figsize=(15,6))\n",
    "sns.countplot(data2.iyear)\n",
    "plt.xticks(rotation = 90)\n",
    "plt.title(\"Number of Terrorist Attacks Each Year (1970 - 2016)\")\n",
    "plt.xlabel(\"Year\")\n",
    "plt.show()"
   ]
  },
  {
   "cell_type": "markdown",
   "metadata": {},
   "source": [
    "The plot shows a clear increasing trend in the number of terrorist attacks, peaking in 2014"
   ]
  },
  {
   "cell_type": "markdown",
   "metadata": {},
   "source": [
    "According to the plot, the distribution of terrorist attacks by month is relatively uniform "
   ]
  },
  {
   "cell_type": "code",
   "execution_count": 17,
   "metadata": {},
   "outputs": [
    {
     "data": {
      "image/png": "[encoded data removed]",
      "text/plain": [
       "<matplotlib.figure.Figure at 0x10e9e89b0>"
      ]
     },
     "metadata": {},
     "output_type": "display_data"
    }
   ],
   "source": [
    "plt.subplots(figsize=(15,6))\n",
    "sns.countplot(data2.imonth)\n",
    "plt.xticks(rotation = 90)\n",
    "plt.title(\"Number of Terrorist Attacks Each Month\")\n",
    "plt.xlabel(\"Month\")\n",
    "plt.show()"
   ]
  },
  {
   "cell_type": "markdown",
   "metadata": {},
   "source": [
    "#### Examining Distribution of Terrorist Attacks By Year and Regions"
   ]
  },
  {
   "cell_type": "code",
   "execution_count": 18,
   "metadata": {},
   "outputs": [
    {
     "data": {
      "text/html": [
       "<div>\n",
       "<style scoped>\n",
       "    .dataframe tbody tr th:only-of-type {\n",
       "        vertical-align: middle;\n",
       "    }\n",
       "\n",
       "    .dataframe tbody tr th {\n",
       "        vertical-align: top;\n",
       "    }\n",
       "\n",
       "    .dataframe thead th {\n",
       "        text-align: right;\n",
       "    }\n",
       "</style>\n",
       "<table border=\"1\" class=\"dataframe\">\n",
       "  <thead>\n",
       "    <tr style=\"text-align: right;\">\n",
       "      <th>iyear</th>\n",
       "      <th>1970</th>\n",
       "      <th>1971</th>\n",
       "      <th>1972</th>\n",
       "      <th>1973</th>\n",
       "      <th>1974</th>\n",
       "      <th>1975</th>\n",
       "      <th>1976</th>\n",
       "      <th>1977</th>\n",
       "      <th>1978</th>\n",
       "      <th>1979</th>\n",
       "      <th>...</th>\n",
       "      <th>2007</th>\n",
       "      <th>2008</th>\n",
       "      <th>2009</th>\n",
       "      <th>2010</th>\n",
       "      <th>2011</th>\n",
       "      <th>2012</th>\n",
       "      <th>2013</th>\n",
       "      <th>2014</th>\n",
       "      <th>2015</th>\n",
       "      <th>2016</th>\n",
       "    </tr>\n",
       "    <tr>\n",
       "      <th>region_txt</th>\n",
       "      <th></th>\n",
       "      <th></th>\n",
       "      <th></th>\n",
       "      <th></th>\n",
       "      <th></th>\n",
       "      <th></th>\n",
       "      <th></th>\n",
       "      <th></th>\n",
       "      <th></th>\n",
       "      <th></th>\n",
       "      <th></th>\n",
       "      <th></th>\n",
       "      <th></th>\n",
       "      <th></th>\n",
       "      <th></th>\n",
       "      <th></th>\n",
       "      <th></th>\n",
       "      <th></th>\n",
       "      <th></th>\n",
       "      <th></th>\n",
       "      <th></th>\n",
       "    </tr>\n",
       "  </thead>\n",
       "  <tbody>\n",
       "    <tr>\n",
       "      <th>Australasia &amp; Oceania</th>\n",
       "      <td>1</td>\n",
       "      <td>1</td>\n",
       "      <td>2</td>\n",
       "      <td>1</td>\n",
       "      <td>1</td>\n",
       "      <td>0</td>\n",
       "      <td>0</td>\n",
       "      <td>0</td>\n",
       "      <td>2</td>\n",
       "      <td>2</td>\n",
       "      <td>...</td>\n",
       "      <td>1</td>\n",
       "      <td>8</td>\n",
       "      <td>1</td>\n",
       "      <td>1</td>\n",
       "      <td>0</td>\n",
       "      <td>0</td>\n",
       "      <td>1</td>\n",
       "      <td>9</td>\n",
       "      <td>14</td>\n",
       "      <td>10</td>\n",
       "    </tr>\n",
       "    <tr>\n",
       "      <th>Central America &amp; Caribbean</th>\n",
       "      <td>1</td>\n",
       "      <td>4</td>\n",
       "      <td>3</td>\n",
       "      <td>3</td>\n",
       "      <td>9</td>\n",
       "      <td>9</td>\n",
       "      <td>41</td>\n",
       "      <td>16</td>\n",
       "      <td>151</td>\n",
       "      <td>398</td>\n",
       "      <td>...</td>\n",
       "      <td>4</td>\n",
       "      <td>0</td>\n",
       "      <td>9</td>\n",
       "      <td>1</td>\n",
       "      <td>1</td>\n",
       "      <td>1</td>\n",
       "      <td>14</td>\n",
       "      <td>5</td>\n",
       "      <td>1</td>\n",
       "      <td>3</td>\n",
       "    </tr>\n",
       "    <tr>\n",
       "      <th>Central Asia</th>\n",
       "      <td>0</td>\n",
       "      <td>0</td>\n",
       "      <td>0</td>\n",
       "      <td>0</td>\n",
       "      <td>0</td>\n",
       "      <td>0</td>\n",
       "      <td>0</td>\n",
       "      <td>0</td>\n",
       "      <td>0</td>\n",
       "      <td>0</td>\n",
       "      <td>...</td>\n",
       "      <td>4</td>\n",
       "      <td>34</td>\n",
       "      <td>29</td>\n",
       "      <td>8</td>\n",
       "      <td>9</td>\n",
       "      <td>12</td>\n",
       "      <td>7</td>\n",
       "      <td>8</td>\n",
       "      <td>9</td>\n",
       "      <td>16</td>\n",
       "    </tr>\n",
       "    <tr>\n",
       "      <th>East Asia</th>\n",
       "      <td>2</td>\n",
       "      <td>1</td>\n",
       "      <td>0</td>\n",
       "      <td>2</td>\n",
       "      <td>4</td>\n",
       "      <td>12</td>\n",
       "      <td>2</td>\n",
       "      <td>1</td>\n",
       "      <td>35</td>\n",
       "      <td>14</td>\n",
       "      <td>...</td>\n",
       "      <td>0</td>\n",
       "      <td>25</td>\n",
       "      <td>8</td>\n",
       "      <td>1</td>\n",
       "      <td>4</td>\n",
       "      <td>4</td>\n",
       "      <td>14</td>\n",
       "      <td>41</td>\n",
       "      <td>27</td>\n",
       "      <td>8</td>\n",
       "    </tr>\n",
       "    <tr>\n",
       "      <th>Eastern Europe</th>\n",
       "      <td>12</td>\n",
       "      <td>4</td>\n",
       "      <td>1</td>\n",
       "      <td>1</td>\n",
       "      <td>1</td>\n",
       "      <td>0</td>\n",
       "      <td>0</td>\n",
       "      <td>2</td>\n",
       "      <td>2</td>\n",
       "      <td>1</td>\n",
       "      <td>...</td>\n",
       "      <td>60</td>\n",
       "      <td>206</td>\n",
       "      <td>162</td>\n",
       "      <td>259</td>\n",
       "      <td>195</td>\n",
       "      <td>172</td>\n",
       "      <td>164</td>\n",
       "      <td>841</td>\n",
       "      <td>654</td>\n",
       "      <td>124</td>\n",
       "    </tr>\n",
       "    <tr>\n",
       "      <th>Middle East &amp; North Africa</th>\n",
       "      <td>22</td>\n",
       "      <td>46</td>\n",
       "      <td>30</td>\n",
       "      <td>18</td>\n",
       "      <td>40</td>\n",
       "      <td>39</td>\n",
       "      <td>51</td>\n",
       "      <td>208</td>\n",
       "      <td>120</td>\n",
       "      <td>412</td>\n",
       "      <td>...</td>\n",
       "      <td>1370</td>\n",
       "      <td>1492</td>\n",
       "      <td>1336</td>\n",
       "      <td>1426</td>\n",
       "      <td>1601</td>\n",
       "      <td>2358</td>\n",
       "      <td>4407</td>\n",
       "      <td>6383</td>\n",
       "      <td>5258</td>\n",
       "      <td>5443</td>\n",
       "    </tr>\n",
       "    <tr>\n",
       "      <th>North America</th>\n",
       "      <td>469</td>\n",
       "      <td>246</td>\n",
       "      <td>67</td>\n",
       "      <td>61</td>\n",
       "      <td>107</td>\n",
       "      <td>153</td>\n",
       "      <td>117</td>\n",
       "      <td>144</td>\n",
       "      <td>106</td>\n",
       "      <td>74</td>\n",
       "      <td>...</td>\n",
       "      <td>19</td>\n",
       "      <td>30</td>\n",
       "      <td>15</td>\n",
       "      <td>23</td>\n",
       "      <td>12</td>\n",
       "      <td>38</td>\n",
       "      <td>32</td>\n",
       "      <td>33</td>\n",
       "      <td>62</td>\n",
       "      <td>72</td>\n",
       "    </tr>\n",
       "    <tr>\n",
       "      <th>South America</th>\n",
       "      <td>43</td>\n",
       "      <td>14</td>\n",
       "      <td>15</td>\n",
       "      <td>52</td>\n",
       "      <td>61</td>\n",
       "      <td>49</td>\n",
       "      <td>78</td>\n",
       "      <td>89</td>\n",
       "      <td>170</td>\n",
       "      <td>176</td>\n",
       "      <td>...</td>\n",
       "      <td>46</td>\n",
       "      <td>128</td>\n",
       "      <td>152</td>\n",
       "      <td>137</td>\n",
       "      <td>98</td>\n",
       "      <td>124</td>\n",
       "      <td>159</td>\n",
       "      <td>249</td>\n",
       "      <td>151</td>\n",
       "      <td>109</td>\n",
       "    </tr>\n",
       "    <tr>\n",
       "      <th>South Asia</th>\n",
       "      <td>1</td>\n",
       "      <td>0</td>\n",
       "      <td>1</td>\n",
       "      <td>0</td>\n",
       "      <td>2</td>\n",
       "      <td>3</td>\n",
       "      <td>4</td>\n",
       "      <td>2</td>\n",
       "      <td>2</td>\n",
       "      <td>29</td>\n",
       "      <td>...</td>\n",
       "      <td>924</td>\n",
       "      <td>1569</td>\n",
       "      <td>1747</td>\n",
       "      <td>1773</td>\n",
       "      <td>1969</td>\n",
       "      <td>3651</td>\n",
       "      <td>4418</td>\n",
       "      <td>4633</td>\n",
       "      <td>4188</td>\n",
       "      <td>3151</td>\n",
       "    </tr>\n",
       "    <tr>\n",
       "      <th>Southeast Asia</th>\n",
       "      <td>6</td>\n",
       "      <td>6</td>\n",
       "      <td>9</td>\n",
       "      <td>1</td>\n",
       "      <td>2</td>\n",
       "      <td>4</td>\n",
       "      <td>9</td>\n",
       "      <td>8</td>\n",
       "      <td>37</td>\n",
       "      <td>66</td>\n",
       "      <td>...</td>\n",
       "      <td>363</td>\n",
       "      <td>473</td>\n",
       "      <td>539</td>\n",
       "      <td>466</td>\n",
       "      <td>342</td>\n",
       "      <td>574</td>\n",
       "      <td>1160</td>\n",
       "      <td>1037</td>\n",
       "      <td>1042</td>\n",
       "      <td>1047</td>\n",
       "    </tr>\n",
       "    <tr>\n",
       "      <th>Sub-Saharan Africa</th>\n",
       "      <td>0</td>\n",
       "      <td>0</td>\n",
       "      <td>0</td>\n",
       "      <td>3</td>\n",
       "      <td>4</td>\n",
       "      <td>7</td>\n",
       "      <td>5</td>\n",
       "      <td>15</td>\n",
       "      <td>37</td>\n",
       "      <td>101</td>\n",
       "      <td>...</td>\n",
       "      <td>285</td>\n",
       "      <td>323</td>\n",
       "      <td>199</td>\n",
       "      <td>243</td>\n",
       "      <td>415</td>\n",
       "      <td>1106</td>\n",
       "      <td>905</td>\n",
       "      <td>1966</td>\n",
       "      <td>1671</td>\n",
       "      <td>1782</td>\n",
       "    </tr>\n",
       "    <tr>\n",
       "      <th>Western Europe</th>\n",
       "      <td>45</td>\n",
       "      <td>120</td>\n",
       "      <td>347</td>\n",
       "      <td>284</td>\n",
       "      <td>309</td>\n",
       "      <td>431</td>\n",
       "      <td>560</td>\n",
       "      <td>740</td>\n",
       "      <td>686</td>\n",
       "      <td>931</td>\n",
       "      <td>...</td>\n",
       "      <td>71</td>\n",
       "      <td>163</td>\n",
       "      <td>180</td>\n",
       "      <td>132</td>\n",
       "      <td>93</td>\n",
       "      <td>189</td>\n",
       "      <td>251</td>\n",
       "      <td>215</td>\n",
       "      <td>328</td>\n",
       "      <td>262</td>\n",
       "    </tr>\n",
       "  </tbody>\n",
       "</table>\n",
       "<p>12 rows × 46 columns</p>\n",
       "</div>"
      ],
      "text/plain": [
       "iyear                        1970  1971  1972  1973  1974  1975  1976  1977  \\\n",
       "region_txt                                                                    \n",
       "Australasia & Oceania           1     1     2     1     1     0     0     0   \n",
       "Central America & Caribbean     1     4     3     3     9     9    41    16   \n",
       "Central Asia                    0     0     0     0     0     0     0     0   \n",
       "East Asia                       2     1     0     2     4    12     2     1   \n",
       "Eastern Europe                 12     4     1     1     1     0     0     2   \n",
       "Middle East & North Africa     22    46    30    18    40    39    51   208   \n",
       "North America                 469   246    67    61   107   153   117   144   \n",
       "South America                  43    14    15    52    61    49    78    89   \n",
       "South Asia                      1     0     1     0     2     3     4     2   \n",
       "Southeast Asia                  6     6     9     1     2     4     9     8   \n",
       "Sub-Saharan Africa              0     0     0     3     4     7     5    15   \n",
       "Western Europe                 45   120   347   284   309   431   560   740   \n",
       "\n",
       "iyear                        1978  1979  ...   2007  2008  2009  2010  2011  \\\n",
       "region_txt                               ...                                  \n",
       "Australasia & Oceania           2     2  ...      1     8     1     1     0   \n",
       "Central America & Caribbean   151   398  ...      4     0     9     1     1   \n",
       "Central Asia                    0     0  ...      4    34    29     8     9   \n",
       "East Asia                      35    14  ...      0    25     8     1     4   \n",
       "Eastern Europe                  2     1  ...     60   206   162   259   195   \n",
       "Middle East & North Africa    120   412  ...   1370  1492  1336  1426  1601   \n",
       "North America                 106    74  ...     19    30    15    23    12   \n",
       "South America                 170   176  ...     46   128   152   137    98   \n",
       "South Asia                      2    29  ...    924  1569  1747  1773  1969   \n",
       "Southeast Asia                 37    66  ...    363   473   539   466   342   \n",
       "Sub-Saharan Africa             37   101  ...    285   323   199   243   415   \n",
       "Western Europe                686   931  ...     71   163   180   132    93   \n",
       "\n",
       "iyear                        2012  2013  2014  2015  2016  \n",
       "region_txt                                                 \n",
       "Australasia & Oceania           0     1     9    14    10  \n",
       "Central America & Caribbean     1    14     5     1     3  \n",
       "Central Asia                   12     7     8     9    16  \n",
       "East Asia                       4    14    41    27     8  \n",
       "Eastern Europe                172   164   841   654   124  \n",
       "Middle East & North Africa   2358  4407  6383  5258  5443  \n",
       "North America                  38    32    33    62    72  \n",
       "South America                 124   159   249   151   109  \n",
       "South Asia                   3651  4418  4633  4188  3151  \n",
       "Southeast Asia                574  1160  1037  1042  1047  \n",
       "Sub-Saharan Africa           1106   905  1966  1671  1782  \n",
       "Western Europe                189   251   215   328   262  \n",
       "\n",
       "[12 rows x 46 columns]"
      ]
     },
     "execution_count": 18,
     "metadata": {},
     "output_type": "execute_result"
    }
   ],
   "source": [
    "data2.pivot_table(index = \"region_txt\", columns = \"iyear\", values = \"eventid\", aggfunc = \"count\", fill_value = 0)"
   ]
  },
  {
   "cell_type": "code",
   "execution_count": 19,
   "metadata": {},
   "outputs": [
    {
     "data": {
      "image/png": "[encoded data removed]",
      "text/plain": [
       "<matplotlib.figure.Figure at 0x10ea526a0>"
      ]
     },
     "metadata": {},
     "output_type": "display_data"
    }
   ],
   "source": [
    "plt.subplots(figsize=(15,6))\n",
    "sns.countplot(data2.region_txt[data2.iyear.isin(np.arange(2004, 2017, 1))],\\\n",
    "              hue = data2.iyear[data2.iyear.isin(np.arange(2004, 2017, 1))],\\\n",
    "              order = data2.region_txt[data2.iyear.isin(np.arange(2004, 2017, 1))].value_counts().index)\n",
    "plt.xticks(rotation = 90)\n",
    "plt.legend(loc = \"upper right\")\n",
    "plt.title(\"Distribution of Terrorist Attacks by Year and Region\")\n",
    "plt.xlabel(\"Region\")\n",
    "plt.show()"
   ]
  },
  {
   "cell_type": "markdown",
   "metadata": {},
   "source": [
    "#### Examining Distribution of Attack Types By Year"
   ]
  },
  {
   "cell_type": "code",
   "execution_count": 20,
   "metadata": {},
   "outputs": [
    {
     "data": {
      "text/html": [
       "<div>\n",
       "<style scoped>\n",
       "    .dataframe tbody tr th:only-of-type {\n",
       "        vertical-align: middle;\n",
       "    }\n",
       "\n",
       "    .dataframe tbody tr th {\n",
       "        vertical-align: top;\n",
       "    }\n",
       "\n",
       "    .dataframe thead th {\n",
       "        text-align: right;\n",
       "    }\n",
       "</style>\n",
       "<table border=\"1\" class=\"dataframe\">\n",
       "  <thead>\n",
       "    <tr style=\"text-align: right;\">\n",
       "      <th>iyear</th>\n",
       "      <th>1970</th>\n",
       "      <th>1971</th>\n",
       "      <th>1972</th>\n",
       "      <th>1973</th>\n",
       "      <th>1974</th>\n",
       "      <th>1975</th>\n",
       "      <th>1976</th>\n",
       "      <th>1977</th>\n",
       "      <th>1978</th>\n",
       "      <th>1979</th>\n",
       "      <th>...</th>\n",
       "      <th>2007</th>\n",
       "      <th>2008</th>\n",
       "      <th>2009</th>\n",
       "      <th>2010</th>\n",
       "      <th>2011</th>\n",
       "      <th>2012</th>\n",
       "      <th>2013</th>\n",
       "      <th>2014</th>\n",
       "      <th>2015</th>\n",
       "      <th>2016</th>\n",
       "    </tr>\n",
       "    <tr>\n",
       "      <th>attacktype1_txt</th>\n",
       "      <th></th>\n",
       "      <th></th>\n",
       "      <th></th>\n",
       "      <th></th>\n",
       "      <th></th>\n",
       "      <th></th>\n",
       "      <th></th>\n",
       "      <th></th>\n",
       "      <th></th>\n",
       "      <th></th>\n",
       "      <th></th>\n",
       "      <th></th>\n",
       "      <th></th>\n",
       "      <th></th>\n",
       "      <th></th>\n",
       "      <th></th>\n",
       "      <th></th>\n",
       "      <th></th>\n",
       "      <th></th>\n",
       "      <th></th>\n",
       "      <th></th>\n",
       "    </tr>\n",
       "  </thead>\n",
       "  <tbody>\n",
       "    <tr>\n",
       "      <th>Armed Assault</th>\n",
       "      <td>61</td>\n",
       "      <td>44</td>\n",
       "      <td>63</td>\n",
       "      <td>62</td>\n",
       "      <td>46</td>\n",
       "      <td>81</td>\n",
       "      <td>124</td>\n",
       "      <td>255</td>\n",
       "      <td>241</td>\n",
       "      <td>442</td>\n",
       "      <td>...</td>\n",
       "      <td>846</td>\n",
       "      <td>1081</td>\n",
       "      <td>1101</td>\n",
       "      <td>1093</td>\n",
       "      <td>1388</td>\n",
       "      <td>2078</td>\n",
       "      <td>2958</td>\n",
       "      <td>4066</td>\n",
       "      <td>3339</td>\n",
       "      <td>2713</td>\n",
       "    </tr>\n",
       "    <tr>\n",
       "      <th>Assassination</th>\n",
       "      <td>17</td>\n",
       "      <td>67</td>\n",
       "      <td>191</td>\n",
       "      <td>158</td>\n",
       "      <td>155</td>\n",
       "      <td>177</td>\n",
       "      <td>198</td>\n",
       "      <td>141</td>\n",
       "      <td>244</td>\n",
       "      <td>442</td>\n",
       "      <td>...</td>\n",
       "      <td>137</td>\n",
       "      <td>202</td>\n",
       "      <td>220</td>\n",
       "      <td>355</td>\n",
       "      <td>334</td>\n",
       "      <td>449</td>\n",
       "      <td>830</td>\n",
       "      <td>873</td>\n",
       "      <td>885</td>\n",
       "      <td>780</td>\n",
       "    </tr>\n",
       "    <tr>\n",
       "      <th>Bombing/Explosion</th>\n",
       "      <td>333</td>\n",
       "      <td>238</td>\n",
       "      <td>187</td>\n",
       "      <td>149</td>\n",
       "      <td>281</td>\n",
       "      <td>369</td>\n",
       "      <td>418</td>\n",
       "      <td>630</td>\n",
       "      <td>639</td>\n",
       "      <td>1047</td>\n",
       "      <td>...</td>\n",
       "      <td>1863</td>\n",
       "      <td>2660</td>\n",
       "      <td>2566</td>\n",
       "      <td>2509</td>\n",
       "      <td>2589</td>\n",
       "      <td>5079</td>\n",
       "      <td>6672</td>\n",
       "      <td>8775</td>\n",
       "      <td>7608</td>\n",
       "      <td>7075</td>\n",
       "    </tr>\n",
       "    <tr>\n",
       "      <th>Facility/Infrastructure Attack</th>\n",
       "      <td>174</td>\n",
       "      <td>88</td>\n",
       "      <td>18</td>\n",
       "      <td>36</td>\n",
       "      <td>42</td>\n",
       "      <td>64</td>\n",
       "      <td>113</td>\n",
       "      <td>180</td>\n",
       "      <td>177</td>\n",
       "      <td>179</td>\n",
       "      <td>...</td>\n",
       "      <td>115</td>\n",
       "      <td>272</td>\n",
       "      <td>336</td>\n",
       "      <td>286</td>\n",
       "      <td>236</td>\n",
       "      <td>287</td>\n",
       "      <td>526</td>\n",
       "      <td>652</td>\n",
       "      <td>645</td>\n",
       "      <td>629</td>\n",
       "    </tr>\n",
       "    <tr>\n",
       "      <th>Hijacking</th>\n",
       "      <td>8</td>\n",
       "      <td>3</td>\n",
       "      <td>6</td>\n",
       "      <td>4</td>\n",
       "      <td>3</td>\n",
       "      <td>0</td>\n",
       "      <td>2</td>\n",
       "      <td>5</td>\n",
       "      <td>0</td>\n",
       "      <td>9</td>\n",
       "      <td>...</td>\n",
       "      <td>7</td>\n",
       "      <td>12</td>\n",
       "      <td>17</td>\n",
       "      <td>9</td>\n",
       "      <td>8</td>\n",
       "      <td>5</td>\n",
       "      <td>12</td>\n",
       "      <td>39</td>\n",
       "      <td>26</td>\n",
       "      <td>30</td>\n",
       "    </tr>\n",
       "    <tr>\n",
       "      <th>Hostage Taking (Barricade Incident)</th>\n",
       "      <td>3</td>\n",
       "      <td>1</td>\n",
       "      <td>4</td>\n",
       "      <td>7</td>\n",
       "      <td>5</td>\n",
       "      <td>11</td>\n",
       "      <td>6</td>\n",
       "      <td>12</td>\n",
       "      <td>39</td>\n",
       "      <td>60</td>\n",
       "      <td>...</td>\n",
       "      <td>6</td>\n",
       "      <td>2</td>\n",
       "      <td>4</td>\n",
       "      <td>8</td>\n",
       "      <td>2</td>\n",
       "      <td>18</td>\n",
       "      <td>25</td>\n",
       "      <td>42</td>\n",
       "      <td>69</td>\n",
       "      <td>58</td>\n",
       "    </tr>\n",
       "    <tr>\n",
       "      <th>Hostage Taking (Kidnapping)</th>\n",
       "      <td>3</td>\n",
       "      <td>1</td>\n",
       "      <td>6</td>\n",
       "      <td>7</td>\n",
       "      <td>4</td>\n",
       "      <td>5</td>\n",
       "      <td>3</td>\n",
       "      <td>2</td>\n",
       "      <td>3</td>\n",
       "      <td>18</td>\n",
       "      <td>...</td>\n",
       "      <td>167</td>\n",
       "      <td>189</td>\n",
       "      <td>114</td>\n",
       "      <td>189</td>\n",
       "      <td>162</td>\n",
       "      <td>284</td>\n",
       "      <td>470</td>\n",
       "      <td>920</td>\n",
       "      <td>738</td>\n",
       "      <td>672</td>\n",
       "    </tr>\n",
       "    <tr>\n",
       "      <th>Unarmed Assault</th>\n",
       "      <td>3</td>\n",
       "      <td>0</td>\n",
       "      <td>0</td>\n",
       "      <td>3</td>\n",
       "      <td>4</td>\n",
       "      <td>0</td>\n",
       "      <td>3</td>\n",
       "      <td>0</td>\n",
       "      <td>5</td>\n",
       "      <td>7</td>\n",
       "      <td>...</td>\n",
       "      <td>6</td>\n",
       "      <td>33</td>\n",
       "      <td>19</td>\n",
       "      <td>21</td>\n",
       "      <td>20</td>\n",
       "      <td>29</td>\n",
       "      <td>39</td>\n",
       "      <td>53</td>\n",
       "      <td>95</td>\n",
       "      <td>70</td>\n",
       "    </tr>\n",
       "  </tbody>\n",
       "</table>\n",
       "<p>8 rows × 46 columns</p>\n",
       "</div>"
      ],
      "text/plain": [
       "iyear                                1970  1971  1972  1973  1974  1975  1976  \\\n",
       "attacktype1_txt                                                                 \n",
       "Armed Assault                          61    44    63    62    46    81   124   \n",
       "Assassination                          17    67   191   158   155   177   198   \n",
       "Bombing/Explosion                     333   238   187   149   281   369   418   \n",
       "Facility/Infrastructure Attack        174    88    18    36    42    64   113   \n",
       "Hijacking                               8     3     6     4     3     0     2   \n",
       "Hostage Taking (Barricade Incident)     3     1     4     7     5    11     6   \n",
       "Hostage Taking (Kidnapping)             3     1     6     7     4     5     3   \n",
       "Unarmed Assault                         3     0     0     3     4     0     3   \n",
       "\n",
       "iyear                                1977  1978  1979  ...   2007  2008  2009  \\\n",
       "attacktype1_txt                                        ...                      \n",
       "Armed Assault                         255   241   442  ...    846  1081  1101   \n",
       "Assassination                         141   244   442  ...    137   202   220   \n",
       "Bombing/Explosion                     630   639  1047  ...   1863  2660  2566   \n",
       "Facility/Infrastructure Attack        180   177   179  ...    115   272   336   \n",
       "Hijacking                               5     0     9  ...      7    12    17   \n",
       "Hostage Taking (Barricade Incident)    12    39    60  ...      6     2     4   \n",
       "Hostage Taking (Kidnapping)             2     3    18  ...    167   189   114   \n",
       "Unarmed Assault                         0     5     7  ...      6    33    19   \n",
       "\n",
       "iyear                                2010  2011  2012  2013  2014  2015  2016  \n",
       "attacktype1_txt                                                                \n",
       "Armed Assault                        1093  1388  2078  2958  4066  3339  2713  \n",
       "Assassination                         355   334   449   830   873   885   780  \n",
       "Bombing/Explosion                    2509  2589  5079  6672  8775  7608  7075  \n",
       "Facility/Infrastructure Attack        286   236   287   526   652   645   629  \n",
       "Hijacking                               9     8     5    12    39    26    30  \n",
       "Hostage Taking (Barricade Incident)     8     2    18    25    42    69    58  \n",
       "Hostage Taking (Kidnapping)           189   162   284   470   920   738   672  \n",
       "Unarmed Assault                        21    20    29    39    53    95    70  \n",
       "\n",
       "[8 rows x 46 columns]"
      ]
     },
     "execution_count": 20,
     "metadata": {},
     "output_type": "execute_result"
    }
   ],
   "source": [
    "data2.pivot_table(index = \"attacktype1_txt\", columns = \"iyear\", values = \"eventid\", aggfunc = \"count\", fill_value = 0)"
   ]
  },
  {
   "cell_type": "code",
   "execution_count": 21,
   "metadata": {},
   "outputs": [
    {
     "data": {
      "image/png": "[encoded data removed]",
      "text/plain": [
       "<matplotlib.figure.Figure at 0x10d3040f0>"
      ]
     },
     "metadata": {},
     "output_type": "display_data"
    }
   ],
   "source": [
    "plt.subplots(figsize=(15,6))\n",
    "sns.countplot(data2.attacktype1_txt[data2.iyear.isin(np.arange(2004, 2017, 1))],\\\n",
    "              hue = data2.iyear[data2.iyear.isin(np.arange(2004, 2017, 1))])\n",
    "plt.xticks(rotation = 90)\n",
    "plt.legend(loc = \"upper right\")\n",
    "plt.title(\"Distribution of Attack Type By Year\")\n",
    "plt.xlabel(\"Attack Type\")\n",
    "plt.show()"
   ]
  },
  {
   "cell_type": "markdown",
   "metadata": {},
   "source": [
    "#### Examining Distribution of Attack Types By Month"
   ]
  },
  {
   "cell_type": "code",
   "execution_count": 22,
   "metadata": {},
   "outputs": [
    {
     "data": {
      "image/png": "[encoded data removed]",
      "text/plain": [
       "<matplotlib.figure.Figure at 0x10bf690f0>"
      ]
     },
     "metadata": {},
     "output_type": "display_data"
    }
   ],
   "source": [
    "plt.subplots(figsize=(15,6))\n",
    "sns.countplot(data2.attacktype1_txt,\\\n",
    "              hue = data2.imonth)\n",
    "plt.xticks(rotation = 90)\n",
    "plt.legend(loc = \"upper right\")\n",
    "plt.title(\"Distribution of Attack Type By Month\")\n",
    "plt.xlabel(\"Attack Type\")\n",
    "plt.show()"
   ]
  },
  {
   "cell_type": "markdown",
   "metadata": {},
   "source": [
    "#### Examining Distribution of Terrorist Attacks by Month and Regions"
   ]
  },
  {
   "cell_type": "code",
   "execution_count": 23,
   "metadata": {},
   "outputs": [
    {
     "data": {
      "image/png": "[encoded data removed]",
      "text/plain": [
       "<matplotlib.figure.Figure at 0x10ea76b00>"
      ]
     },
     "metadata": {},
     "output_type": "display_data"
    }
   ],
   "source": [
    "plt.subplots(figsize=(15,6))\n",
    "sns.countplot(data2.region_txt,\\\n",
    "              hue = data2.imonth)\n",
    "plt.xticks(rotation = 90)\n",
    "plt.legend(loc = \"upper right\")\n",
    "plt.title(\"Distribution of Terrorist Attacks By Month and Regions\")\n",
    "plt.xlabel(\"Region\")\n",
    "plt.show()"
   ]
  },
  {
   "cell_type": "markdown",
   "metadata": {},
   "source": [
    "The distribution is relatively uniform for most the regions, but there may be some trends for regions such as South America, Middle East and North Africa, and South Asia\n",
    "\n",
    "Also, there are usually spikes in every other month starting from January, suggesting a possibility of patterns in terrorist attacks"
   ]
  },
  {
   "cell_type": "markdown",
   "metadata": {},
   "source": [
    "### Multinomial Logistic Regression"
   ]
  },
  {
   "cell_type": "markdown",
   "metadata": {},
   "source": [
    "#### Creating X and y Variables"
   ]
  },
  {
   "cell_type": "code",
   "execution_count": 24,
   "metadata": {},
   "outputs": [],
   "source": [
    "X_temp = data2.loc[:,[\"imonth\", \"crit1\", \"crit2\", \"crit3\", \"multiple\", \\\n",
    "          \"country_txt\", \"region_txt\", \"weaptype1_txt\", \\\n",
    "          \"suicide\", \"targtype1_txt\", \"target1\", \\\n",
    "          \"gname\", \"attacktype1_txt\"]]\n",
    "X_temp2 = X_temp.dropna()\n",
    "X = X_temp2.loc[:,[\"imonth\", \"crit1\", \"crit2\", \"crit3\", \"multiple\", \\\n",
    "          \"country_txt\", \"region_txt\", \"weaptype1_txt\", \\\n",
    "          \"suicide\", \"targtype1_txt\", \"target1\", \\\n",
    "          \"gname\"]]"
   ]
  },
  {
   "cell_type": "code",
   "execution_count": 25,
   "metadata": {},
   "outputs": [],
   "source": [
    "X[\"target1\"] = X[\"target1\"].astype(str)\n",
    "X[\"gname\"] = X[\"gname\"].astype(str)"
   ]
  },
  {
   "cell_type": "code",
   "execution_count": 27,
   "metadata": {},
   "outputs": [],
   "source": [
    "y = X_temp2.loc[:,\"attacktype1_txt\"]"
   ]
  },
  {
   "cell_type": "markdown",
   "metadata": {},
   "source": [
    "group = y_temp.unique()\n",
    "print(group)"
   ]
  },
  {
   "cell_type": "markdown",
   "metadata": {},
   "source": [
    "##### Binarize the output\n",
    "y = label_binarize(y_temp, classes=group)\n",
    "n_classes = y.shape[1]"
   ]
  },
  {
   "cell_type": "code",
   "execution_count": 28,
   "metadata": {},
   "outputs": [],
   "source": [
    "X_train, X_test, y_train, y_test = train_test_split(X, y, test_size = 0.4, random_state = 40)"
   ]
  },
  {
   "cell_type": "code",
   "execution_count": 29,
   "metadata": {},
   "outputs": [
    {
     "name": "stdout",
     "output_type": "stream",
     "text": [
      "(93544,)\n",
      "(93544, 12)\n"
     ]
    }
   ],
   "source": [
    "print(y_train.shape)\n",
    "print(X_train.shape)"
   ]
  },
  {
   "cell_type": "code",
   "execution_count": 31,
   "metadata": {},
   "outputs": [
    {
     "name": "stderr",
     "output_type": "stream",
     "text": [
      "/Users/BrianNg/anaconda3/lib/python3.6/site-packages/ipykernel_launcher.py:10: SettingWithCopyWarning: \n",
      "A value is trying to be set on a copy of a slice from a DataFrame.\n",
      "Try using .loc[row_indexer,col_indexer] = value instead\n",
      "\n",
      "See the caveats in the documentation: http://pandas.pydata.org/pandas-docs/stable/indexing.html#indexing-view-versus-copy\n",
      "  # Remove the CWD from sys.path while we load stuff.\n",
      "/Users/BrianNg/anaconda3/lib/python3.6/site-packages/ipykernel_launcher.py:11: SettingWithCopyWarning: \n",
      "A value is trying to be set on a copy of a slice from a DataFrame.\n",
      "Try using .loc[row_indexer,col_indexer] = value instead\n",
      "\n",
      "See the caveats in the documentation: http://pandas.pydata.org/pandas-docs/stable/indexing.html#indexing-view-versus-copy\n",
      "  # This is added back by InteractiveShellApp.init_path()\n"
     ]
    }
   ],
   "source": [
    "le=LabelEncoder()\n",
    "\n",
    "# Iterating over all the common columns in train and test\n",
    "for col in X_test.columns.values:\n",
    "    # Encoding only categorical variables\n",
    "    if X_test[col].dtypes=='object':\n",
    "    # Using whole data to form an exhaustive list of levels\n",
    "        data3 = X_train[col].append(X_test[col])\n",
    "        le.fit(data3.values)\n",
    "        X_train[col] = le.transform(X_train[col])\n",
    "        X_test[col] = le.transform(X_test[col])"
   ]
  },
  {
   "cell_type": "markdown",
   "metadata": {},
   "source": [
    "##### Learn to predict each class against the other\n",
    "classifier = OneVsRestClassifier(svm.SVC(kernel='linear', probability=True))\n",
    "y_score = classifier.fit(X_train, y_train).decision_function(X_test)"
   ]
  },
  {
   "cell_type": "markdown",
   "metadata": {},
   "source": [
    "##### Compute ROC curve and ROC area for each class\n",
    "fpr = dict()\n",
    "tpr = dict()\n",
    "roc_auc = dict()\n",
    "for i in range(n_classes):\n",
    "    fpr[i], tpr[i], _ = roc_curve(y_test[:, i], y_score[:, i])\n",
    "    roc_auc[i] = auc(fpr[i], tpr[i])\n",
    "\n",
    "##### Compute micro-average ROC curve and ROC area\n",
    "fpr[\"micro\"], tpr[\"micro\"], _ = roc_curve(y_test.ravel(), y_score.ravel())\n",
    "roc_auc[\"micro\"] = auc(fpr[\"micro\"], tpr[\"micro\"])"
   ]
  },
  {
   "cell_type": "code",
   "execution_count": 40,
   "metadata": {},
   "outputs": [],
   "source": [
    "logreg = LogisticRegression(multi_class='ovr')"
   ]
  },
  {
   "cell_type": "code",
   "execution_count": 48,
   "metadata": {},
   "outputs": [],
   "source": [
    "c_space = np.logspace(-5, 8, 15)\n",
    "param_grid = {\"C\": c_space, \"penalty\": ['l1', 'l2']}"
   ]
  },
  {
   "cell_type": "code",
   "execution_count": 49,
   "metadata": {},
   "outputs": [],
   "source": [
    "logreg_cv = GridSearchCV(logreg, param_grid, cv = 5)"
   ]
  },
  {
   "cell_type": "code",
   "execution_count": 50,
   "metadata": {},
   "outputs": [
    {
     "data": {
      "text/plain": [
       "GridSearchCV(cv=5, error_score='raise',\n",
       "       estimator=LogisticRegression(C=1.0, class_weight=None, dual=False, fit_intercept=True,\n",
       "          intercept_scaling=1, max_iter=100, multi_class='ovr', n_jobs=1,\n",
       "          penalty='l2', random_state=None, solver='liblinear', tol=0.0001,\n",
       "          verbose=0, warm_start=False),\n",
       "       fit_params=None, iid=True, n_jobs=1,\n",
       "       param_grid={'C': array([1.00000e-05, 8.48343e-05, 7.19686e-04, 6.10540e-03, 5.17947e-02,\n",
       "       4.39397e-01, 3.72759e+00, 3.16228e+01, 2.68270e+02, 2.27585e+03,\n",
       "       1.93070e+04, 1.63789e+05, 1.38950e+06, 1.17877e+07, 1.00000e+08]), 'penalty': ['l1', 'l2']},\n",
       "       pre_dispatch='2*n_jobs', refit=True, return_train_score='warn',\n",
       "       scoring=None, verbose=0)"
      ]
     },
     "execution_count": 50,
     "metadata": {},
     "output_type": "execute_result"
    }
   ],
   "source": [
    "logreg_cv.fit(X_train, y_train)"
   ]
  },
  {
   "cell_type": "code",
   "execution_count": 51,
   "metadata": {},
   "outputs": [
    {
     "name": "stdout",
     "output_type": "stream",
     "text": [
      "Tuned Logistic Regression Parameter: {'C': 31.622776601683793, 'penalty': 'l1'}\n",
      "Tuned Logistic Regression Accuracy: 0.7770460959548448\n"
     ]
    }
   ],
   "source": [
    "print(\"Tuned Logistic Regression Parameter: {}\".format(logreg_cv.best_params_))\n",
    "print(\"Tuned Logistic Regression Accuracy: {}\".format(logreg_cv.best_score_))"
   ]
  },
  {
   "cell_type": "code",
   "execution_count": 52,
   "metadata": {},
   "outputs": [],
   "source": [
    "y_pred = logreg_cv.predict(X_test)"
   ]
  },
  {
   "cell_type": "code",
   "execution_count": 53,
   "metadata": {},
   "outputs": [
    {
     "name": "stdout",
     "output_type": "stream",
     "text": [
      "[[15019   141   700   174     0     0     0     0]\n",
      " [ 5454    68  1178    57     0     0     0     0]\n",
      " [  397     7 32416    36     0     0     0     0]\n",
      " [ 2668    10    17   884     0     0     0     0]\n",
      " [  107     6    31    12     0     0     0     0]\n",
      " [  260    21    46     2     0     0     0     0]\n",
      " [ 2166    22    80    37     0     0     0     0]\n",
      " [  211     0    85    51     0     0     0     0]]\n"
     ]
    }
   ],
   "source": [
    "print(confusion_matrix(y_test, y_pred))"
   ]
  },
  {
   "cell_type": "code",
   "execution_count": 54,
   "metadata": {},
   "outputs": [
    {
     "data": {
      "text/plain": [
       "0.7705209819925276"
      ]
     },
     "execution_count": 54,
     "metadata": {},
     "output_type": "execute_result"
    }
   ],
   "source": [
    "accuracy_score(y_test,logreg.predict(X_test))"
   ]
  }
 ],
 "metadata": {
  "kernelspec": {
   "display_name": "Python 3",
   "language": "python",
   "name": "python3"
  },
  "language_info": {
   "codemirror_mode": {
    "name": "ipython",
    "version": 3
   },
   "file_extension": ".py",
   "mimetype": "text/x-python",
   "name": "python",
   "nbconvert_exporter": "python",
   "pygments_lexer": "ipython3",
   "version": "3.6.4"
  }
 },
 "nbformat": 4,
 "nbformat_minor": 2
}
